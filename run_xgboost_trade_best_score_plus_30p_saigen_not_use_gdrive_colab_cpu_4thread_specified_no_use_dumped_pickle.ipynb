{
  "nbformat": 4,
  "nbformat_minor": 0,
  "metadata": {
    "colab": {
      "name": "run_xgboost_trade_best_score_plus_30p_saigen_not_use_gdrive_colab_cpu_4thread_specified_no_use_dumped_pickle.ipynb",
      "version": "0.3.2",
      "provenance": [],
      "collapsed_sections": [],
      "include_colab_link": true
    },
    "kernelspec": {
      "name": "python3",
      "display_name": "Python 3"
    }
  },
  "cells": [
    {
      "cell_type": "markdown",
      "metadata": {
        "id": "view-in-github",
        "colab_type": "text"
      },
      "source": [
        "<a href=\"https://colab.research.google.com/github/ryogrid/ryogridJupyterNotebooks/blob/master/run_xgboost_trade_best_score_plus_30p_saigen_not_use_gdrive_colab_cpu_4thread_specified_no_use_dumped_pickle.ipynb\" target=\"_parent\"><img src=\"https://colab.research.google.com/assets/colab-badge.svg\" alt=\"Open In Colab\"/></a>"
      ]
    },
    {
      "metadata": {
        "id": "XdFy8d0zCyz1",
        "colab_type": "text"
      },
      "cell_type": "markdown",
      "source": [
        "ランタイムのタイプはPython3のハードウェアアクセラレータNoneで実行すること  \n",
        "この時点でのコードツリーは以下  \n",
        "https://github.com/ryogrid/fx_systrade/tree/babcea5f7e964245c39ba1db5503fe094e4eecc1"
      ]
    },
    {
      "metadata": {
        "id": "tX28Ug1CzZCS",
        "colab_type": "code",
        "colab": {}
      },
      "cell_type": "code",
      "source": [
        "%cd /root/\n",
        "!wget http://prdownloads.sourceforge.net/ta-lib/ta-lib-0.4.0-src.tar.gz\n",
        "!tar -xzvf ta-lib-0.4.0-src.tar.gz\n",
        "%cd ta-lib\n",
        "!./configure --prefix=/usr\n",
        "!make\n",
        "!make install\n",
        "!pip install ta-lib"
      ],
      "execution_count": 0,
      "outputs": []
    },
    {
      "metadata": {
        "id": "c2U2-qy-gfaz",
        "colab_type": "code",
        "colab": {}
      },
      "cell_type": "code",
      "source": [
        "!pip install xgboost"
      ],
      "execution_count": 0,
      "outputs": []
    },
    {
      "metadata": {
        "colab_type": "code",
        "id": "IQFViaD7pNUy",
        "colab": {}
      },
      "cell_type": "code",
      "source": [
        "%cd /root/\n",
        "!rm -rf fx_systrade\n",
        "!git clone -b nakamauchi_trade_program_compe_best_score_plus_30p_saigen https://github.com/ryogrid/fx_systrade.git --depth 1"
      ],
      "execution_count": 0,
      "outputs": []
    },
    {
      "metadata": {
        "colab_type": "code",
        "id": "MK0Nk3TupNTn",
        "colab": {}
      },
      "cell_type": "code",
      "source": [
        "%cd 'fx_systrade'"
      ],
      "execution_count": 0,
      "outputs": []
    },
    {
      "metadata": {
        "id": "h79QmGN9vxP4",
        "colab_type": "code",
        "colab": {}
      },
      "cell_type": "code",
      "source": [
        "!pip install pytz"
      ],
      "execution_count": 0,
      "outputs": []
    },
    {
      "metadata": {
        "id": "rzcc7qa6sL0j",
        "colab_type": "code",
        "colab": {}
      },
      "cell_type": "code",
      "source": [
        "!pip list"
      ],
      "execution_count": 0,
      "outputs": []
    },
    {
      "metadata": {
        "colab_type": "code",
        "id": "3eKjyxsZpNTV",
        "colab": {}
      },
      "cell_type": "code",
      "source": [
        "import xgboost_trade_colab_gpu\n",
        "xgboost_trade_colab_gpu.run_script(\"TRAIN\")\n",
        "xgboost_trade_colab_gpu.run_script(\"TRADE\")"
      ],
      "execution_count": 0,
      "outputs": []
    },
    {
      "metadata": {
        "id": "Omrru5r1zIzB",
        "colab_type": "code",
        "colab": {}
      },
      "cell_type": "code",
      "source": [
        "!ls -lh"
      ],
      "execution_count": 0,
      "outputs": []
    },
    {
      "metadata": {
        "id": "vjA0RDNyAbag",
        "colab_type": "code",
        "colab": {}
      },
      "cell_type": "code",
      "source": [
        "!egrep -v log backtest_log_*.txt | tail"
      ],
      "execution_count": 0,
      "outputs": []
    }
  ]
}