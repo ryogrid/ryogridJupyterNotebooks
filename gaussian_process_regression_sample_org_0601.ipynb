{
  "nbformat": 4,
  "nbformat_minor": 0,
  "metadata": {
    "colab": {
      "name": "gaussian_process_regression_sample_org_0601.ipynb ",
      "version": "0.3.2",
      "provenance": [],
      "collapsed_sections": []
    },
    "kernelspec": {
      "name": "python3",
      "display_name": "Python 3"
    },
    "accelerator": "GPU"
  },
  "cells": [
    {
      "cell_type": "markdown",
      "metadata": {
        "id": "2uyLBXYtKH6a",
        "colab_type": "text"
      },
      "source": [
        "https://blog.dominodatalab.com/fitting-gaussian-process-models-python/"
      ]
    },
    {
      "cell_type": "code",
      "metadata": {
        "id": "sxx4445jI9-8",
        "colab_type": "code",
        "colab": {}
      },
      "source": [
        "import numpy as np\n",
        " \n",
        "def exponential_cov(x, y, params):\n",
        "  return params[0] * np.exp( -0.5 * params[1] * np.subtract.outer(x, y)**2)"
      ],
      "execution_count": 0,
      "outputs": []
    },
    {
      "cell_type": "code",
      "metadata": {
        "id": "d04fk63ZJeAK",
        "colab_type": "code",
        "colab": {}
      },
      "source": [
        "def conditional(x_new, x, y, params):\n",
        "  B = exponential_cov(x_new, x, params)\n",
        "  C = exponential_cov(x, x, params)\n",
        "  A = exponential_cov(x_new, x_new, params)\n",
        "\n",
        "  mu = np.linalg.inv(C).dot(B.T).T.dot(y)\n",
        "  sigma = A - B.dot(np.linalg.inv(C).dot(B.T))\n",
        "\n",
        "  return(mu.squeeze(), sigma.squeeze())"
      ],
      "execution_count": 0,
      "outputs": []
    },
    {
      "cell_type": "code",
      "metadata": {
        "id": "88N6nlz6JkqW",
        "colab_type": "code",
        "colab": {}
      },
      "source": [
        "import matplotlib.pylab as plt\n",
        " \n",
        "theta = [1, 10]\n",
        "sigma_theta = exponential_cov(0, 0, theta)\n",
        "xpts = np.arange(-3, 3, step=0.01)\n",
        "plt.errorbar(xpts, np.zeros(len(xpts)), yerr=sigma_theta, capsize=0)"
      ],
      "execution_count": 0,
      "outputs": []
    },
    {
      "cell_type": "code",
      "metadata": {
        "id": "XN7_3IdGLKwm",
        "colab_type": "code",
        "colab": {}
      },
      "source": [
        "x = [1.]\n",
        "y = [np.random.normal(scale=sigma_theta)]\n",
        "y"
      ],
      "execution_count": 0,
      "outputs": []
    },
    {
      "cell_type": "code",
      "metadata": {
        "id": "uTe1U5MjLZf5",
        "colab_type": "code",
        "colab": {}
      },
      "source": [
        "sigma_1 = exponential_cov(x, x, theta)\n",
        " \n",
        "def predict(x, data, kernel, params, sigma, t):\n",
        "  k = [kernel(x, y, params) for y in data]\n",
        "  Sinv = np.linalg.inv(sigma)\n",
        "  y_pred = np.dot(k, Sinv).dot(t)\n",
        "  sigma_new = kernel(x, x, params) - np.dot(k, Sinv).dot(k)\n",
        "  return y_pred, sigma_new"
      ],
      "execution_count": 0,
      "outputs": []
    },
    {
      "cell_type": "code",
      "metadata": {
        "id": "xeR6503RLlBw",
        "colab_type": "code",
        "colab": {}
      },
      "source": [
        "x_pred = np.linspace(-3, 3, 100)\n",
        "predictions = [predict(i, x, exponential_cov, theta, sigma_1, y) for i in x_pred]"
      ],
      "execution_count": 0,
      "outputs": []
    },
    {
      "cell_type": "code",
      "metadata": {
        "id": "Y8Fs_AgYLseS",
        "colab_type": "code",
        "colab": {}
      },
      "source": [
        "y_pred, sigmas = np.transpose(predictions)\n",
        "#plt.errorbar(x_pred, y_pred, yerr=sigmas, capsize=0)\n",
        "plt.plot(x, y, \"ro\")"
      ],
      "execution_count": 0,
      "outputs": []
    },
    {
      "cell_type": "code",
      "metadata": {
        "id": "NCyh5YiBMPdy",
        "colab_type": "code",
        "colab": {}
      },
      "source": [
        "m, s = conditional([-0.7], x, y, theta)\n",
        "y2 = np.random.normal(m, s)\n",
        "y2"
      ],
      "execution_count": 0,
      "outputs": []
    },
    {
      "cell_type": "code",
      "metadata": {
        "id": "RBJmQH1KMW9R",
        "colab_type": "code",
        "colab": {}
      },
      "source": [
        "x.append(-0.7)\n",
        "y.append(y2)\n",
        " \n",
        "sigma_2 = exponential_cov(x, x, theta)\n",
        "predictions = [predict(i, x, exponential_cov, theta, sigma_2, y) for i in x_pred]"
      ],
      "execution_count": 0,
      "outputs": []
    },
    {
      "cell_type": "code",
      "metadata": {
        "id": "F5Qmxg6yMgC8",
        "colab_type": "code",
        "colab": {
          "base_uri": "https://localhost:8080/",
          "height": 306
        },
        "outputId": "237e8056-f7cf-4220-db55-e23619685604"
      },
      "source": [
        "y_pred, sigmas = np.transpose(predictions)\n",
        "plt.errorbar(x_pred, y_pred, yerr=sigmas, capsize=0)\n",
        "plt.plot(x, y, \"ro\")"
      ],
      "execution_count": 15,
      "outputs": [
        {
          "output_type": "execute_result",
          "data": {
            "text/plain": [
              "[<matplotlib.lines.Line2D at 0x7fd389bf7e80>]"
            ]
          },
          "metadata": {
            "tags": []
          },
          "execution_count": 15
        },
        {
          "output_type": "display_data",
          "data": {
            "image/png": "[encoded data removed]",
            "text/plain": [
              "<Figure size 432x288 with 1 Axes>"
            ]
          },
          "metadata": {
            "tags": []
          }
        }
      ]
    },
    {
      "cell_type": "code",
      "metadata": {
        "id": "4JW-yw60M2rv",
        "colab_type": "code",
        "colab": {}
      },
      "source": [
        "x_more = [-2.1, -1.5, 0.3, 1.8, 2.5]\n",
        "mu, s = conditional(x_more, x, y, theta)\n",
        "y_more = np.random.multivariate_normal(mu, s)\n",
        "y_more"
      ],
      "execution_count": 0,
      "outputs": []
    },
    {
      "cell_type": "code",
      "metadata": {
        "id": "_bwuEfWeM8R9",
        "colab_type": "code",
        "colab": {
          "base_uri": "https://localhost:8080/",
          "height": 306
        },
        "outputId": "a7264fab-c071-4794-ddd5-55c4e03cebc0"
      },
      "source": [
        "x += x_more\n",
        "y += y_more.tolist()\n",
        " \n",
        "sigma_new = exponential_cov(x, x, theta)\n",
        "predictions = [predict(i, x, exponential_cov, theta, sigma_new, y) for i in x_pred]\n",
        " \n",
        "y_pred, sigmas = np.transpose(predictions)\n",
        "plt.errorbar(x_pred, y_pred, yerr=sigmas, capsize=0)\n",
        "plt.plot(x, y, \"ro\")"
      ],
      "execution_count": 17,
      "outputs": [
        {
          "output_type": "execute_result",
          "data": {
            "text/plain": [
              "[<matplotlib.lines.Line2D at 0x7fd389b7e278>]"
            ]
          },
          "metadata": {
            "tags": []
          },
          "execution_count": 17
        },
        {
          "output_type": "display_data",
          "data": {
            "image/png": "[encoded data removed]",
            "text/plain": [
              "<Figure size 432x288 with 1 Axes>"
            ]
          },
          "metadata": {
            "tags": []
          }
        }
      ]
    },
    {
      "cell_type": "markdown",
      "metadata": {
        "id": "zwYAM9-1XLoF",
        "colab_type": "text"
      },
      "source": [
        "以下はオリジナルで追加したコード。sin波の学習ができるか試している"
      ]
    },
    {
      "cell_type": "markdown",
      "metadata": {
        "id": "KBnkVaaWY5BR",
        "colab_type": "text"
      },
      "source": [
        "berow param shows nice fitting"
      ]
    },
    {
      "cell_type": "code",
      "metadata": {
        "id": "pWYGSqxSNZXg",
        "colab_type": "code",
        "colab": {}
      },
      "source": [
        "x0 = np.arange(0, 10, 0.5)\n",
        "y0 = np.sin(x0)\n",
        "theta2 = [1, 10]\n",
        "x_pred2 = np.linspace(0, 10, 100)"
      ],
      "execution_count": 0,
      "outputs": []
    },
    {
      "cell_type": "code",
      "metadata": {
        "id": "5z8X3ZN4V63j",
        "colab_type": "code",
        "colab": {}
      },
      "source": [
        "def exponential_cov2(x, y, params):\n",
        "  return params[0] * np.exp( -0.5 * params[1] * np.subtract.outer(x, y)**2)"
      ],
      "execution_count": 0,
      "outputs": []
    },
    {
      "cell_type": "code",
      "metadata": {
        "id": "8VoH2iUuRyei",
        "colab_type": "code",
        "colab": {}
      },
      "source": [
        "def predict2(x_pred_elem, x0, kernel, params, sigma, y0):\n",
        "  #print(len(sigma))\n",
        "  k = [kernel(x_pred_elem, y, params) for y in x0]\n",
        "  Sinv = np.linalg.inv(sigma)\n",
        "  #print(Sinv)\n",
        "  y_pred = np.dot(k, Sinv).dot(y0)\n",
        "  sigma_new = kernel(x_pred_elem, x_pred_elem, params) - np.dot(k, Sinv).dot(k)\n",
        "  #print(len(sigma_new))\n",
        "  return y_pred, sigma_new"
      ],
      "execution_count": 0,
      "outputs": []
    },
    {
      "cell_type": "code",
      "metadata": {
        "id": "KMEq-7WJNm-D",
        "colab_type": "code",
        "colab": {
          "base_uri": "https://localhost:8080/",
          "height": 392
        },
        "outputId": "85d96859-c3bb-4441-cfd9-b69cc31bc123"
      },
      "source": [
        "sigma_sin = exponential_cov2(x0, x0, theta2)\n",
        "print(len(x0))\n",
        "print(len(y0))\n",
        "print(len(sigma_sin))\n",
        "predictions = [predict2(x_pred_elem, x0, exponential_cov2, theta2, sigma_sin, y0) for x_pred_elem in x_pred2]\n",
        " \n",
        "y_pred2, sigmas = np.transpose(predictions)\n",
        "print(len(x_pred2))\n",
        "print(len(y_pred2))\n",
        "#plt.errorbar(x_pred2, y_pred, yerr=sigmas, capsize=0)\n",
        "plt.plot(x_pred2, y_pred2, \"b.\")\n",
        "plt.plot(x0, y0, \"ro\")"
      ],
      "execution_count": 21,
      "outputs": [
        {
          "output_type": "stream",
          "text": [
            "20\n",
            "20\n",
            "20\n",
            "100\n",
            "100\n"
          ],
          "name": "stdout"
        },
        {
          "output_type": "execute_result",
          "data": {
            "text/plain": [
              "[<matplotlib.lines.Line2D at 0x7fd389a923c8>]"
            ]
          },
          "metadata": {
            "tags": []
          },
          "execution_count": 21
        },
        {
          "output_type": "display_data",
          "data": {
            "image/png": "[encoded data removed]",
            "text/plain": [
              "<Figure size 432x288 with 1 Axes>"
            ]
          },
          "metadata": {
            "tags": []
          }
        }
      ]
    },
    {
      "cell_type": "markdown",
      "metadata": {
        "id": "9X_F3ieZZlEV",
        "colab_type": "text"
      },
      "source": [
        "prediction not works"
      ]
    },
    {
      "cell_type": "code",
      "metadata": {
        "id": "OOkwwcm9NsvH",
        "colab_type": "code",
        "colab": {}
      },
      "source": [
        "x0 = np.arange(0, 10, 0.5)\n",
        "y0 = np.sin(x0)\n",
        "theta2 = [1, 10]\n",
        "x_pred2 = np.linspace(0, 20, 200)"
      ],
      "execution_count": 0,
      "outputs": []
    },
    {
      "cell_type": "code",
      "metadata": {
        "id": "eUWSIzIMZT20",
        "colab_type": "code",
        "colab": {
          "base_uri": "https://localhost:8080/",
          "height": 392
        },
        "outputId": "b8e7f2bb-1430-45ba-cead-5242d82548d8"
      },
      "source": [
        "sigma_sin = exponential_cov2(x0, x0, theta2)\n",
        "print(len(x0))\n",
        "print(len(y0))\n",
        "print(len(sigma_sin))\n",
        "predictions = [predict2(i, x0, exponential_cov, theta2, sigma_sin, y0) for i in x_pred2]\n",
        " \n",
        "y_pred2, sigmas = np.transpose(predictions)\n",
        "print(len(x_pred2))\n",
        "print(len(y_pred2))\n",
        "#plt.errorbar(x_pred2, y_pred, yerr=sigmas, capsize=0)\n",
        "plt.plot(x_pred2, y_pred2, \"b.\")\n",
        "plt.plot(x0, y0, \"ro\")"
      ],
      "execution_count": 23,
      "outputs": [
        {
          "output_type": "stream",
          "text": [
            "20\n",
            "20\n",
            "20\n",
            "200\n",
            "200\n"
          ],
          "name": "stdout"
        },
        {
          "output_type": "execute_result",
          "data": {
            "text/plain": [
              "[<matplotlib.lines.Line2D at 0x7fd389a69e48>]"
            ]
          },
          "metadata": {
            "tags": []
          },
          "execution_count": 23
        },
        {
          "output_type": "display_data",
          "data": {
            "image/png": "[encoded data removed]",
            "text/plain": [
              "<Figure size 432x288 with 1 Axes>"
            ]
          },
          "metadata": {
            "tags": []
          }
        }
      ]
    },
    {
      "cell_type": "markdown",
      "metadata": {
        "id": "TKuT7R2p3aGO",
        "colab_type": "text"
      },
      "source": [
        "別実装のコードで書いてみる（現状うまくいかず)"
      ]
    },
    {
      "cell_type": "code",
      "metadata": {
        "id": "5mU3uqWH574_",
        "colab_type": "code",
        "colab": {}
      },
      "source": [
        "import numpy as np\n",
        "import matplotlib.pylab as plt\n",
        "\n",
        "class BasicKernel:\n",
        "  def __init__(self, param):\n",
        "    self.param = param\n",
        "  \n",
        "  def __call__(self,x, y):\n",
        "    a, w = self.param\n",
        "    #return a * np.exp( -0.5 * w * np.subtract.outer(x, y)**2)\n",
        "    return a * np.exp( -0.5 * w * (x - y)**2)\n",
        "    "
      ],
      "execution_count": 0,
      "outputs": []
    },
    {
      "cell_type": "code",
      "metadata": {
        "id": "cvFgwkGl2tVq",
        "colab_type": "code",
        "colab": {}
      },
      "source": [
        "theta3 = [1, 20]\n",
        "x0 = np.arange(0, 10, 0.5)\n",
        "y0 = np.sin(x0)\n",
        "x1 = np.linspace(0, 10, 20) \n",
        "\n",
        "kernel = BasicKernel(theta3)\n",
        "\n",
        "noise_mat = np.eye(20) * 0.01\n",
        "\n",
        "             \n",
        "k00 = kernel(*np.meshgrid(x0,x0))\n",
        "print(k00.shape)\n",
        "k00 = k00 + noise_mat\n",
        "#print(k00)\n",
        "k00_inv = np.linalg.inv(k00) # 逆行列"
      ],
      "execution_count": 0,
      "outputs": []
    },
    {
      "cell_type": "code",
      "metadata": {
        "id": "gMn7Bkz-_y_M",
        "colab_type": "code",
        "colab": {}
      },
      "source": [
        "k01 = kernel(*np.meshgrid(x0,x1,indexing='ij'))\n",
        "k10 = k01.T\n",
        "k11 = kernel(*np.meshgrid(x1,x1))"
      ],
      "execution_count": 0,
      "outputs": []
    },
    {
      "cell_type": "code",
      "metadata": {
        "id": "-CIg1iVQBh2V",
        "colab_type": "code",
        "colab": {}
      },
      "source": [
        "mu = k10.dot(k00_inv.dot(y0)) #フィッティングした値"
      ],
      "execution_count": 0,
      "outputs": []
    },
    {
      "cell_type": "code",
      "metadata": {
        "id": "6zfENwD8Bk3d",
        "colab_type": "code",
        "colab": {}
      },
      "source": [
        "sigma = k11 - k10.dot(k00_inv.dot(k01))"
      ],
      "execution_count": 0,
      "outputs": []
    },
    {
      "cell_type": "code",
      "metadata": {
        "id": "dofVIiiI3-vI",
        "colab_type": "code",
        "colab": {
          "base_uri": "https://localhost:8080/",
          "height": 289
        },
        "outputId": "f1445a54-a7e9-4004-e0a6-cf8121d40e8e"
      },
      "source": [
        "plt.scatter(x0,y0,c='#ff77aa')\n",
        "plt.plot(x1,mu,'g') # 推測された平均\n",
        "#plt.plot(x0,y0,'--r') # 本物の関数\n",
        "std = np.sqrt(sigma.diagonal()) # 各点の標準偏差は共分散行列の対角成分\n",
        "plt.fill_between(x1, mu-std, mu+std, alpha=0.2, color='g') # 推測された標準偏差の中の領域\n",
        "plt.show()"
      ],
      "execution_count": 29,
      "outputs": [
        {
          "output_type": "display_data",
          "data": {
            "image/png": "[encoded data removed]",
            "text/plain": [
              "<Figure size 432x288 with 1 Axes>"
            ]
          },
          "metadata": {
            "tags": []
          }
        }
      ]
    },
    {
      "cell_type": "markdown",
      "metadata": {
        "id": "7TOBXMf_KOWp",
        "colab_type": "text"
      },
      "source": [
        "まるっとコピー(上で書き換えをした対象の別実装版)"
      ]
    },
    {
      "cell_type": "code",
      "metadata": {
        "id": "F7b_3HWlKSEq",
        "colab_type": "code",
        "colab": {
          "base_uri": "https://localhost:8080/",
          "height": 427
        },
        "outputId": "e9230196-f56e-4c1a-ee70-f7338c06b5be"
      },
      "source": [
        "import numpy as np\n",
        "import matplotlib.pyplot as plt\n",
        "\n",
        "class RBFkernel:\n",
        "    def __init__(self,*param):\n",
        "        self.param = list(param)\n",
        "\n",
        "    def __call__(self,x1,x2):\n",
        "        a,s,w = self.param\n",
        "        print(x1.shape)\n",
        "        print(x2.shape)\n",
        "        return a**2*np.exp(-((x1-x2)/s)**2) + w*(x1==x2)\n",
        "\n",
        "def y(x): # 知りたい関数の正体\n",
        "    return 0.1*x**3-x**2+2*x+5\n",
        "\n",
        "x0 = np.random.uniform(0,10,30) # 既知の点\n",
        "print(x0.shape)\n",
        "y0 = y(x0) + np.random.normal(0,2,30) # 関数にノイズを加える\n",
        "x1 = np.linspace(-1,11,101) # 探す点\n",
        "\n",
        "kernel = RBFkernel(8,0.5,3.5) # 適当なパラメータを使うカーネル関数\n",
        "\n",
        "k00 = kernel(*np.meshgrid(x0,x0))\n",
        "print(k00.shape)\n",
        "k00_1 = np.linalg.inv(k00) # 逆行列\n",
        "k01 = kernel(*np.meshgrid(x0,x1,indexing='ij'))\n",
        "k10 = k01.T\n",
        "k11 = kernel(*np.meshgrid(x1,x1))\n",
        "\n",
        "# ここでは上述の方程式の通りのμとΣ\n",
        "mu = k10.dot(k00_1.dot(y0))\n",
        "sigma = k11 - k10.dot(k00_1.dot(k01))\n",
        "\n",
        "plt.scatter(x0,y0,c='#ff77aa')\n",
        "plt.plot(x1,mu,'g') # 推測された平均\n",
        "plt.plot(x1,y(x1),'--r') # 本物の関数\n",
        "std = np.sqrt(sigma.diagonal()) # 各点の標準偏差は共分散行列の対角成分\n",
        "plt.fill_between(x1,mu-std,mu+std,alpha=0.2,color='g') # 推測された標準偏差の中の領域\n",
        "plt.show()"
      ],
      "execution_count": 30,
      "outputs": [
        {
          "output_type": "stream",
          "text": [
            "(30,)\n",
            "(30, 30)\n",
            "(30, 30)\n",
            "(30, 30)\n",
            "(30, 101)\n",
            "(30, 101)\n",
            "(101, 101)\n",
            "(101, 101)\n"
          ],
          "name": "stdout"
        },
        {
          "output_type": "display_data",
          "data": {
            "image/png": "[encoded data removed]",
            "text/plain": [
              "<Figure size 432x288 with 1 Axes>"
            ]
          },
          "metadata": {
            "tags": []
          }
        }
      ]
    },
    {
      "cell_type": "markdown",
      "metadata": {
        "id": "CyzLV0GU24iu",
        "colab_type": "text"
      },
      "source": [
        "予測にトライ => そもそも学習したxの範囲の教えていないxでの値が予測できていれば、それが予測できているということだと結論した。"
      ]
    },
    {
      "cell_type": "code",
      "metadata": {
        "colab_type": "code",
        "id": "n4s4mAq622Ar",
        "colab": {}
      },
      "source": [
        "import numpy as np\n",
        "import matplotlib.pylab as plt\n",
        "\n",
        "class BasicKernel:\n",
        "  def __init__(self, param):\n",
        "    self.param = param\n",
        "  \n",
        "  def __call__(self,x, y):\n",
        "    a, w = self.param\n",
        "    #return a * np.exp( -0.5 * w * np.subtract.outer(x, y)**2)\n",
        "    return a * np.exp( -0.5 * w * (x - y)**2)\n",
        "    "
      ],
      "execution_count": 0,
      "outputs": []
    },
    {
      "cell_type": "code",
      "metadata": {
        "colab_type": "code",
        "id": "TgGw8XoA22Au",
        "colab": {}
      },
      "source": [
        "theta3 = [1, 20]\n",
        "x0 = np.arange(0, 10, 0.5)\n",
        "y0 = np.sin(x0)\n",
        "#y0 = 0.1*x0**3-x0**2+2*x0+5\n",
        "x1 = np.linspace(0, 10, 40) \n",
        "\n",
        "kernel = BasicKernel(theta3)\n",
        "\n",
        "noise_mat = np.eye(20) * 0.01\n",
        "\n",
        "             \n",
        "k00 = kernel(*np.meshgrid(x0,x0))\n",
        "k00 = k00 + noise_mat\n",
        "k00_inv = np.linalg.inv(k00) # 逆行列"
      ],
      "execution_count": 0,
      "outputs": []
    },
    {
      "cell_type": "code",
      "metadata": {
        "colab_type": "code",
        "id": "HtPBS5q922Az",
        "colab": {}
      },
      "source": [
        "k01 = kernel(*np.meshgrid(x0,x1,indexing='ij'))\n",
        "k01_T = k01.T\n",
        "#print(k01_T.shape)\n",
        "k11 = kernel(*np.meshgrid(x1,x1))"
      ],
      "execution_count": 0,
      "outputs": []
    },
    {
      "cell_type": "code",
      "metadata": {
        "colab_type": "code",
        "id": "rfORn58_22A7",
        "colab": {}
      },
      "source": [
        "mu = k01_T.dot(k00_inv.dot(y0)) #フィッティングした値"
      ],
      "execution_count": 0,
      "outputs": []
    },
    {
      "cell_type": "code",
      "metadata": {
        "colab_type": "code",
        "id": "kupZJaKx22A-",
        "colab": {}
      },
      "source": [
        "sigma = k11 - k01_T.dot(k00_inv.dot(k01))"
      ],
      "execution_count": 0,
      "outputs": []
    },
    {
      "cell_type": "code",
      "metadata": {
        "colab_type": "code",
        "id": "01NROsU222BC",
        "colab": {
          "base_uri": "https://localhost:8080/",
          "height": 289
        },
        "outputId": "b661b262-a80a-4798-b641-6b395c18e578"
      },
      "source": [
        "plt.scatter(x0,y0,c='#ff77aa')\n",
        "plt.plot(x1,mu,'b.') # 推測された平均\n",
        "#plt.plot(x0,y0,'--r') # 本物の関数\n",
        "std = np.sqrt(sigma.diagonal()) # 各点の標準偏差は共分散行列の対角成分\n",
        "plt.fill_between(x1, mu-std, mu+std, alpha=0.2, color='g') # 推測された標準偏差の中の領域\n",
        "plt.show()"
      ],
      "execution_count": 36,
      "outputs": [
        {
          "output_type": "display_data",
          "data": {
            "image/png": "[encoded data removed]",
            "text/plain": [
              "<Figure size 432x288 with 1 Axes>"
            ]
          },
          "metadata": {
            "tags": []
          }
        }
      ]
    },
    {
      "cell_type": "markdown",
      "metadata": {
        "id": "tm36ryMQ8jdf",
        "colab_type": "text"
      },
      "source": [
        "2変数の関数を描いてみる"
      ]
    },
    {
      "cell_type": "code",
      "metadata": {
        "colab_type": "code",
        "id": "B-hdTweN8yE_",
        "colab": {}
      },
      "source": [
        "import numpy as np\n",
        "import matplotlib.pylab as plt\n",
        "from mpl_toolkits.mplot3d import Axes3D\n",
        "    "
      ],
      "execution_count": 0,
      "outputs": []
    },
    {
      "cell_type": "code",
      "metadata": {
        "colab_type": "code",
        "id": "ip5Iwn3u8yFC",
        "colab": {}
      },
      "source": [
        "theta4 = [1, 20]\n",
        "x0 = np.arange(-10, 10, 0.5)\n",
        "y0 = np.arange(-10, 10, 0.5)\n",
        "x0_0_mesh, x_mesh = np.meshgrid(x0[:,0],[:,1])\n",
        "eps = 0.001\n",
        "R = np.sqrt(x0_mesh**2 + y0_mesh**2) + eps;\n",
        "z0 = np.sin(R) / R + eps\n",
        "fig = plt.figure()\n",
        "ax = Axes3D(fig)\n",
        "ax.plot_wireframe(x0_mesh, y0_mesh, z0)\n",
        "plt.show()\n"
      ],
      "execution_count": 0,
      "outputs": []
    },
    {
      "cell_type": "markdown",
      "metadata": {
        "id": "0UcPJSMPJQLb",
        "colab_type": "text"
      },
      "source": [
        "2変数の関数のフィッティングをして可視化してみる（拾ってきたコードベース)  \n",
        "http://krasserm.github.io/2018/03/19/gaussian-processes/"
      ]
    },
    {
      "cell_type": "code",
      "metadata": {
        "id": "VoYUMDpOF-Hy",
        "colab_type": "code",
        "colab": {}
      },
      "source": [
        "!cd /root\n",
        "!wget https://raw.githubusercontent.com/krasserm/bayesian-machine-learning/master/gaussian_processes_util.py"
      ],
      "execution_count": 0,
      "outputs": []
    },
    {
      "cell_type": "code",
      "metadata": {
        "id": "NNJhF9k4FWWO",
        "colab_type": "code",
        "colab": {}
      },
      "source": [
        "from gaussian_processes_util import plot_gp_2D\n"
      ],
      "execution_count": 0,
      "outputs": []
    },
    {
      "cell_type": "code",
      "metadata": {
        "id": "C2L7hZnKHOXm",
        "colab_type": "code",
        "colab": {}
      },
      "source": [
        "from numpy.linalg import inv\n",
        "\n",
        "def posterior_predictive(X_s, X_train, Y_train, l=1.0, sigma_f=1.0, sigma_y=1e-8):\n",
        "    ''' Computes the suffifient statistics of the GP posterior predictive distribution from m training data X_train and Y_train and n new inputs X_s. Args: X_s: New input locations (n x d). X_train: Training locations (m x d). Y_train: Training targets (m x 1). l: Kernel length parameter. sigma_f: Kernel vertical variation parameter. sigma_y: Noise parameter. Returns: Posterior mean vector (n x d) and covariance matrix (n x n). '''\n",
        "    K = kernel(X_train, X_train, l, sigma_f) + sigma_y**2 * np.eye(len(X_train))\n",
        "    K_s = kernel(X_train, X_s, l, sigma_f)\n",
        "    K_ss = kernel(X_s, X_s, l, sigma_f) + 1e-8 * np.eye(len(X_s))\n",
        "    K_inv = inv(K)\n",
        "    \n",
        "    # Equation (4)\n",
        "    mu_s = K_s.T.dot(K_inv).dot(Y_train)\n",
        "\n",
        "    # Equation (5)\n",
        "    cov_s = K_ss - K_s.T.dot(K_inv).dot(K_s)\n",
        "    \n",
        "    return mu_s, cov_s"
      ],
      "execution_count": 0,
      "outputs": []
    },
    {
      "cell_type": "code",
      "metadata": {
        "id": "mHwPyodEHYTK",
        "colab_type": "code",
        "colab": {}
      },
      "source": [
        "from numpy.linalg import cholesky\n",
        "from scipy.optimize import minimize\n",
        "\n",
        "def nll_fn(X_train, Y_train, noise):\n",
        "    '''\n",
        "    Returns a function that computes the negative log-likelihood\n",
        "    for training data X_train and Y_train and given noise level.\n",
        "    \n",
        "    Args:\n",
        "        X_train: training locations (m x d).\n",
        "        Y_train: training targets (m x 1).\n",
        "        noise: known noise level of Y_train.\n",
        "        \n",
        "    Returns:\n",
        "        Minimization objective.\n",
        "    '''\n",
        "    def step(theta):\n",
        "        K = kernel(X_train, X_train, l=theta[0], sigma_f=theta[1]) + \\\n",
        "            noise**2 * np.eye(len(X_train))\n",
        "        # Compute determinant via Cholesky decomposition\n",
        "        return np.sum(np.log(np.diagonal(cholesky(K)))) + \\\n",
        "               0.5 * Y_train.T.dot(inv(K).dot(Y_train)) + \\\n",
        "               0.5 * len(X_train) * np.log(2*np.pi)\n",
        "    return step"
      ],
      "execution_count": 0,
      "outputs": []
    },
    {
      "cell_type": "code",
      "metadata": {
        "id": "97moOKawIYau",
        "colab_type": "code",
        "colab": {}
      },
      "source": [
        "def kernel(X1, X2, l=1.0, sigma_f=1.0):\n",
        "    ''' Isotropic squared exponential kernel. Computes a covariance matrix from points in X1 and X2. Args: X1: Array of m points (m x d). X2: Array of n points (n x d). Returns: Covariance matrix (m x n). '''\n",
        "    sqdist = np.sum(X1**2, 1).reshape(-1, 1) + np.sum(X2**2, 1) - 2 * np.dot(X1, X2.T)\n",
        "    return sigma_f**2 * np.exp(-0.5 / l**2 * sqdist)"
      ],
      "execution_count": 0,
      "outputs": []
    },
    {
      "cell_type": "code",
      "metadata": {
        "id": "L1fA2CtTH1m4",
        "colab_type": "code",
        "colab": {}
      },
      "source": [
        "noise_2D = 0.1\n",
        "\n",
        "rx, ry = np.arange(-5, 5, 0.3), np.arange(-5, 5, 0.3)\n",
        "gx, gy = np.meshgrid(rx, rx)\n",
        "\n",
        "X_2D = np.c_[gx.ravel(), gy.ravel()]\n",
        "\n",
        "X_2D_train = np.random.uniform(-4, 4, (100, 2))\n",
        "Y_2D_train = np.sin(0.5 * np.linalg.norm(X_2D_train, axis=1)) + \\\n",
        "             noise_2D * np.random.randn(len(X_2D_train))\n",
        "\n",
        "plt.figure(figsize=(14,7))\n",
        "\n",
        "mu_s, _ = posterior_predictive(X_2D, X_2D_train, Y_2D_train, sigma_y=noise_2D)\n",
        "plot_gp_2D(gx, gy, mu_s, X_2D_train, Y_2D_train, \n",
        "           f'Before parameter optimization: l={1.00} sigma_f={1.00}', 1)\n",
        "\n",
        "res = minimize(nll_fn(X_2D_train, Y_2D_train, noise_2D), [1, 1], \n",
        "               bounds=((1e-5, None), (1e-5, None)),\n",
        "               method='L-BFGS-B')\n",
        "\n",
        "mu_s, _ = posterior_predictive(X_2D, X_2D_train, Y_2D_train, *res.x, sigma_y=noise_2D)\n",
        "plot_gp_2D(gx, gy, mu_s, X_2D_train, Y_2D_train,\n",
        "           f'After parameter optimization: l={res.x[0]:.2f} sigma_f={res.x[1]:.2f}', 2)"
      ],
      "execution_count": 0,
      "outputs": []
    },
    {
      "cell_type": "markdown",
      "metadata": {
        "id": "2miqTz7tzAwy",
        "colab_type": "text"
      },
      "source": [
        "最初の方法で多次元入力に対応できるか試してみる"
      ]
    },
    {
      "cell_type": "code",
      "metadata": {
        "colab_type": "code",
        "id": "mNMvSBzMzQe7",
        "colab": {}
      },
      "source": [
        "import numpy as np\n",
        "import matplotlib.pylab as plt\n",
        "from mpl_toolkits.mplot3d import Axes3D\n"
      ],
      "execution_count": 0,
      "outputs": []
    },
    {
      "cell_type": "code",
      "metadata": {
        "id": "umZsj2ZqzgDX",
        "colab_type": "code",
        "colab": {}
      },
      "source": [
        "# グラフをプロットするだけのセル\n",
        "x0 = np.arange(-10, 10, 0.5)\n",
        "y0 = np.arange(-10, 10, 0.5)\n",
        "x0_mesh, y0_mesh = np.meshgrid(x0,y0)\n",
        "eps = 0.001\n",
        "R = np.sqrt(x0_mesh**2 + y0_mesh**2) + eps;\n",
        "z0 = np.sin(R) / R + eps\n",
        "print(x0_mesh.shape)\n",
        "print(y0_mesh.shape)\n",
        "print(z0.shape)\n",
        "#fig = plt.figure()\n",
        "#ax = Axes3D(fig)\n",
        "#ax.plot_wireframe(x0_mesh, y0_mesh, z0)\n",
        "#plt.show()"
      ],
      "execution_count": 0,
      "outputs": []
    },
    {
      "cell_type": "code",
      "metadata": {
        "colab_type": "code",
        "id": "ojF4PZuCzQfC",
        "colab": {}
      },
      "source": [
        "def kernel_fn(x, y, params):\n",
        "  #return params[0] * np.exp( -0.5 * params[1] * (x - y)**2)\n",
        "  #return params[0] * np.exp( -0.5 * params[1] * ((x - y)*((x - y).T)))\n",
        "  #print(\"kernel_fn\")\n",
        "  #print(x.shape)\n",
        "  #print(y.shape)\n",
        "  x_T = x.T\n",
        "  y_T = y.T\n",
        "  #return params[0] * np.exp( -0.5 * params[1] * (((x_T - y_T).T)*((x_T - y_T))))\n",
        "  return params[0] * np.exp( -0.5 * params[1] * np.dot((x_T - y_T).T,(x_T - y_T)))"
      ],
      "execution_count": 0,
      "outputs": []
    },
    {
      "cell_type": "code",
      "metadata": {
        "colab_type": "code",
        "id": "PLoyYm3-zQfJ",
        "colab": {}
      },
      "source": [
        "def hidim_predict(x_pred_elem, x0, kernel, params, sigma, y0):\n",
        "  #print(len(sigma))\n",
        "  k = [kernel(x_pred_elem, y, params) for y in x0]\n",
        "  #print(\"sigma\")\n",
        "  #print(sigma.shape)\n",
        "  Sinv = np.linalg.inv(sigma)\n",
        "  #print(Sinv)\n",
        "  y_pred = np.dot(k, Sinv).dot(y0)\n",
        "  sigma_new = kernel(x_pred_elem, x_pred_elem, params) - np.dot(k, Sinv).dot(k)\n",
        "  #print(len(sigma_new))\n",
        "  return y_pred, sigma_new"
      ],
      "execution_count": 0,
      "outputs": []
    },
    {
      "cell_type": "code",
      "metadata": {
        "id": "n33JSQaHzlDT",
        "colab_type": "code",
        "colab": {}
      },
      "source": [
        "x0 = np.random.uniform(-10, 10, (100, 2))\n",
        "#x0 = np.arange(-10, 10, 0.5)\n",
        "#y0 = np.arange(-10, 10, 0.5)\n",
        "#y0 = np.sin(x0)\n",
        "eps = 0.001\n",
        "x0_0_mesh, x0_1_mesh = np.meshgrid(x0[:,0], x0[:,1])\n",
        "R = np.sqrt(x0_0_mesh**2 + x0_1_mesh**2) + eps;\n",
        "y0 = np.sin(R) / R + eps\n",
        "\n",
        "theta_hidim = [1, 100]"
      ],
      "execution_count": 0,
      "outputs": []
    },
    {
      "cell_type": "code",
      "metadata": {
        "colab_type": "code",
        "id": "VxIpDEHRzQfP",
        "colab": {}
      },
      "source": [
        "sigma_hidim = kernel_fn(x0, x0, theta_hidim)\n",
        "noise_mat = np.eye(100) * eps\n",
        "sigma_hidim += noise_mat\n",
        "x_pred_hidim = np.random.uniform(-10, 10, (100, 2))\n",
        "\n",
        "print(x0.shape)\n",
        "print(\"y0\")\n",
        "print(y0.shape)\n",
        "print(\"sigma_hidim\")\n",
        "print(sigma_hidim.shape)\n",
        "predictions = [hidim_predict(x_pred_elem, x0, kernel_fn, theta_hidim, sigma_hidim, y0) for x_pred_elem in x_pred_hidim]\n",
        " \n",
        "y_pred_hidim, sigmas = np.transpose(predictions)\n",
        "print(x_pred_hidim.shape)\n",
        "print(y_pred_hidim.shape)\n",
        "#plt.errorbar(x_pred2, y_pred, yerr=sigmas, capsize=0)\n",
        "#plt.plot(x_pred_hidim, y_pred_hidim, \"b.\")\n",
        "#plt.plot(x0, y0, \"ro\")\n",
        "\n",
        "#x_pred_hidim_10_mesh, x_pred_hidim_11_mesh = np.meshgrid(x_pred_hidim[:,0],x_pred_hidim[:,1])\n",
        "#print(\"shape of x[0] x[1] y\")\n",
        "#print(x_pred_hidim_10_mesh.shape)\n",
        "#print(x_pred_hidim_11_mesh.shape)\n",
        "#print(y_pred_hidim.shape)\n",
        "fig = plt.figure()\n",
        "#ax = Axes3D(fig)\n",
        "#ax = fig.add_subplot(111, projection='3d')\n",
        "ax = fig.add_subplot(111, projection='3d')\n",
        "#ax.set_aspect('equal')\n",
        "#ax = plt.gca()\n",
        "\n",
        "X = x_pred_hidim[:,0].tolist()\n",
        "Y = x_pred_hidim[:,1].tolist()\n",
        "Z = np.abs(y_pred_hidim).tolist()\n",
        "print(\"x, y, z\")\n",
        "print(len(X))\n",
        "print(len(Y))\n",
        "print(len(Z))\n",
        "#ax.set_xlim(-10, 10)\n",
        "#ax.set_ylim(-10, 10)\n",
        "#self.ax.set_zlim(0, width)\n",
        "\n",
        "\n",
        "#plt.gca().invert_xaxis()\n",
        "#ax.autoscale(enable=True)\n",
        "ax.scatter(X, Y, Z, c=\"r\", marker=\"1\", depthshade=True)\n",
        "#ax.scatter(x, y, z)\n",
        "plt.show()\n",
        "\n",
        "#y_pred_hidim_mesh = np.reshape(y_pred_hidim, (200, 1))\n",
        "#print(y_pred_hidim_mesh.shape)\n",
        "#ax.plot_wireframe(x_pred_hidim_10_mesh, x_pred_hidim_11_mesh, y_pred_hidim_mesh)\n",
        "#plt.show()"
      ],
      "execution_count": 0,
      "outputs": []
    }
  ]
}