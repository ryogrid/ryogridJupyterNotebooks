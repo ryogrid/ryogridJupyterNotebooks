{
  "nbformat": 4,
  "nbformat_minor": 0,
  "metadata": {
    "colab": {
      "name": "gaussian_process_regression_sample_org_0601.ipynb ",
      "version": "0.3.2",
      "provenance": [],
      "collapsed_sections": [],
      "include_colab_link": true
    },
    "kernelspec": {
      "name": "python2",
      "display_name": "Python 2"
    }
  },
  "cells": [
    {
      "cell_type": "markdown",
      "metadata": {
        "id": "view-in-github",
        "colab_type": "text"
      },
      "source": [
        "<a href=\"https://colab.research.google.com/github/ryogrid/ryogridJupyterNotebooks/blob/master/gaussian_process_regression_sample_org_0601.ipynb\" target=\"_parent\"><img src=\"https://colab.research.google.com/assets/colab-badge.svg\" alt=\"Open In Colab\"/></a>"
      ]
    },
    {
      "cell_type": "code",
      "metadata": {
        "id": "sxx4445jI9-8",
        "colab_type": "code",
        "colab": {}
      },
      "source": [
        "import numpy as np\n",
        " \n",
        "def exponential_cov(x, y, params):\n",
        "  return params[0] * np.exp( -0.5 * params[1] * np.subtract.outer(x, y)**2)"
      ],
      "execution_count": 0,
      "outputs": []
    },
    {
      "cell_type": "code",
      "metadata": {
        "id": "d04fk63ZJeAK",
        "colab_type": "code",
        "colab": {}
      },
      "source": [
        "def conditional(x_new, x, y, params):\n",
        "  B = exponential_cov(x_new, x, params)\n",
        "  C = exponential_cov(x, x, params)\n",
        "  A = exponential_cov(x_new, x_new, params)\n",
        "\n",
        "  mu = np.linalg.inv(C).dot(B.T).T.dot(y)\n",
        "  sigma = A - B.dot(np.linalg.inv(C).dot(B.T))\n",
        "\n",
        "  return(mu.squeeze(), sigma.squeeze())"
      ],
      "execution_count": 0,
      "outputs": []
    },
    {
      "cell_type": "code",
      "metadata": {
        "id": "88N6nlz6JkqW",
        "colab_type": "code",
        "outputId": "1f71a86a-7cbc-4298-c2aa-bbe34e9d97db",
        "colab": {
          "base_uri": "https://localhost:8080/",
          "height": 285
        }
      },
      "source": [
        "import matplotlib.pylab as plt\n",
        " \n",
        "theta = [1, 10]\n",
        "sigma_theta = exponential_cov(0, 0, theta)\n",
        "xpts = np.arange(-3, 3, step=0.01)\n",
        "plt.errorbar(xpts, np.zeros(len(xpts)), yerr=sigma_theta, capsize=0)"
      ],
      "execution_count": 3,
      "outputs": [
        {
          "output_type": "execute_result",
          "data": {
            "text/plain": [
              "<ErrorbarContainer object of 3 artists>"
            ]
          },
          "metadata": {
            "tags": []
          },
          "execution_count": 3
        },
        {
          "output_type": "display_data",
          "data": {
            "image/png": "[encoded data removed]",
            "text/plain": [
              "<Figure size 432x288 with 1 Axes>"
            ]
          },
          "metadata": {
            "tags": []
          }
        }
      ]
    },
    {
      "cell_type": "code",
      "metadata": {
        "id": "XN7_3IdGLKwm",
        "colab_type": "code",
        "outputId": "b9a36a5c-6047-427c-9dc2-84be2f4a2b74",
        "colab": {
          "base_uri": "https://localhost:8080/",
          "height": 33
        }
      },
      "source": [
        "x = [1.]\n",
        "y = [np.random.normal(scale=sigma_theta)]\n",
        "y"
      ],
      "execution_count": 18,
      "outputs": [
        {
          "output_type": "execute_result",
          "data": {
            "text/plain": [
              "[0.3687937514053605]"
            ]
          },
          "metadata": {
            "tags": []
          },
          "execution_count": 18
        }
      ]
    },
    {
      "cell_type": "code",
      "metadata": {
        "id": "uTe1U5MjLZf5",
        "colab_type": "code",
        "colab": {}
      },
      "source": [
        "sigma_1 = exponential_cov(x, x, theta)\n",
        " \n",
        "def predict(x, data, kernel, params, sigma, t):\n",
        "  k = [kernel(x, y, params) for y in data]\n",
        "  Sinv = np.linalg.inv(sigma)\n",
        "  y_pred = np.dot(k, Sinv).dot(t)\n",
        "  sigma_new = kernel(x, x, params) - np.dot(k, Sinv).dot(k)\n",
        "  return y_pred, sigma_new"
      ],
      "execution_count": 0,
      "outputs": []
    },
    {
      "cell_type": "code",
      "metadata": {
        "id": "xeR6503RLlBw",
        "colab_type": "code",
        "colab": {}
      },
      "source": [
        "x_pred = np.linspace(-3, 3, 100)\n",
        "predictions = [predict(i, x, exponential_cov, theta, sigma_1, y) for i in x_pred]"
      ],
      "execution_count": 0,
      "outputs": []
    },
    {
      "cell_type": "code",
      "metadata": {
        "id": "Y8Fs_AgYLseS",
        "colab_type": "code",
        "outputId": "9c90ec53-f9fe-4ea8-ad5a-5e885344e1e0",
        "colab": {
          "base_uri": "https://localhost:8080/",
          "height": 285
        }
      },
      "source": [
        "y_pred, sigmas = np.transpose(predictions)\n",
        "#plt.errorbar(x_pred, y_pred, yerr=sigmas, capsize=0)\n",
        "plt.plot(x, y, \"ro\")"
      ],
      "execution_count": 7,
      "outputs": [
        {
          "output_type": "execute_result",
          "data": {
            "text/plain": [
              "[<matplotlib.lines.Line2D at 0x7fb098c6b890>]"
            ]
          },
          "metadata": {
            "tags": []
          },
          "execution_count": 7
        },
        {
          "output_type": "display_data",
          "data": {
            "image/png": "[encoded data removed]",
            "text/plain": [
              "<Figure size 432x288 with 1 Axes>"
            ]
          },
          "metadata": {
            "tags": []
          }
        }
      ]
    },
    {
      "cell_type": "code",
      "metadata": {
        "id": "NCyh5YiBMPdy",
        "colab_type": "code",
        "outputId": "c070a2cf-f779-4380-a121-a2f9b8735f4a",
        "colab": {
          "base_uri": "https://localhost:8080/",
          "height": 33
        }
      },
      "source": [
        "m, s = conditional([-0.7], x, y, theta)\n",
        "y2 = np.random.normal(m, s)\n",
        "y2"
      ],
      "execution_count": 8,
      "outputs": [
        {
          "output_type": "execute_result",
          "data": {
            "text/plain": [
              "0.6824750664074756"
            ]
          },
          "metadata": {
            "tags": []
          },
          "execution_count": 8
        }
      ]
    },
    {
      "cell_type": "code",
      "metadata": {
        "id": "RBJmQH1KMW9R",
        "colab_type": "code",
        "colab": {}
      },
      "source": [
        "x.append(-0.7)\n",
        "y.append(y2)\n",
        " \n",
        "sigma_2 = exponential_cov(x, x, theta)\n",
        "predictions = [predict(i, x, exponential_cov, theta, sigma_2, y) for i in x_pred]"
      ],
      "execution_count": 0,
      "outputs": []
    },
    {
      "cell_type": "code",
      "metadata": {
        "id": "F5Qmxg6yMgC8",
        "colab_type": "code",
        "outputId": "f588cddf-5706-46ad-ff31-21e37cc1b1cc",
        "colab": {
          "base_uri": "https://localhost:8080/",
          "height": 285
        }
      },
      "source": [
        "y_pred, sigmas = np.transpose(predictions)\n",
        "plt.errorbar(x_pred, y_pred, yerr=sigmas, capsize=0)\n",
        "plt.plot(x, y, \"ro\")"
      ],
      "execution_count": 21,
      "outputs": [
        {
          "output_type": "execute_result",
          "data": {
            "text/plain": [
              "[<matplotlib.lines.Line2D at 0x7fb09583cf90>]"
            ]
          },
          "metadata": {
            "tags": []
          },
          "execution_count": 21
        },
        {
          "output_type": "display_data",
          "data": {
            "image/png": "[encoded data removed]",
            "text/plain": [
              "<Figure size 432x288 with 1 Axes>"
            ]
          },
          "metadata": {
            "tags": []
          }
        }
      ]
    },
    {
      "cell_type": "code",
      "metadata": {
        "id": "4JW-yw60M2rv",
        "colab_type": "code",
        "outputId": "cf4f3981-42e9-41ad-8055-22b2bf6f6364",
        "colab": {
          "base_uri": "https://localhost:8080/",
          "height": 33
        }
      },
      "source": [
        "x_more = [-2.1, -1.5, 0.3, 1.8, 2.5]\n",
        "mu, s = conditional(x_more, x, y, theta)\n",
        "y_more = np.random.multivariate_normal(mu, s)\n",
        "y_more"
      ],
      "execution_count": 22,
      "outputs": [
        {
          "output_type": "execute_result",
          "data": {
            "text/plain": [
              "array([ 0.14457513, -0.56748689, -0.11960339,  0.71469824,  0.2201649 ])"
            ]
          },
          "metadata": {
            "tags": []
          },
          "execution_count": 22
        }
      ]
    },
    {
      "cell_type": "code",
      "metadata": {
        "id": "_bwuEfWeM8R9",
        "colab_type": "code",
        "outputId": "3c8b0209-318a-4141-8fdb-962b63d6272b",
        "colab": {
          "base_uri": "https://localhost:8080/",
          "height": 285
        }
      },
      "source": [
        "x += x_more\n",
        "y += y_more.tolist()\n",
        " \n",
        "sigma_new = exponential_cov(x, x, theta)\n",
        "predictions = [predict(i, x, exponential_cov, theta, sigma_new, y) for i in x_pred]\n",
        " \n",
        "y_pred, sigmas = np.transpose(predictions)\n",
        "plt.errorbar(x_pred, y_pred, yerr=sigmas, capsize=0)\n",
        "plt.plot(x, y, \"ro\")"
      ],
      "execution_count": 23,
      "outputs": [
        {
          "output_type": "execute_result",
          "data": {
            "text/plain": [
              "[<matplotlib.lines.Line2D at 0x7fb09591a4d0>]"
            ]
          },
          "metadata": {
            "tags": []
          },
          "execution_count": 23
        },
        {
          "output_type": "display_data",
          "data": {
            "image/png": "[encoded data removed]",
            "text/plain": [
              "<Figure size 432x288 with 1 Axes>"
            ]
          },
          "metadata": {
            "tags": []
          }
        }
      ]
    },
    {
      "cell_type": "markdown",
      "metadata": {
        "id": "zwYAM9-1XLoF",
        "colab_type": "text"
      },
      "source": [
        "以下はオリジナルで追加したコード。sin波の学習ができるか試している"
      ]
    },
    {
      "cell_type": "markdown",
      "metadata": {
        "id": "KBnkVaaWY5BR",
        "colab_type": "text"
      },
      "source": [
        "berow param shows nice fitting"
      ]
    },
    {
      "cell_type": "code",
      "metadata": {
        "id": "pWYGSqxSNZXg",
        "colab_type": "code",
        "colab": {}
      },
      "source": [
        "x0 = np.arange(0, 10, 0.5)\n",
        "y0 = np.sin(x0)\n",
        "theta2 = [1, 10]\n",
        "x_pred2 = np.linspace(0, 10, 100)"
      ],
      "execution_count": 0,
      "outputs": []
    },
    {
      "cell_type": "code",
      "metadata": {
        "id": "5z8X3ZN4V63j",
        "colab_type": "code",
        "colab": {}
      },
      "source": [
        "def exponential_cov2(x, y, params):\n",
        "  return params[0] * np.exp( -0.5 * params[1] * np.subtract.outer(x, y)**2)"
      ],
      "execution_count": 0,
      "outputs": []
    },
    {
      "cell_type": "code",
      "metadata": {
        "id": "8VoH2iUuRyei",
        "colab_type": "code",
        "colab": {}
      },
      "source": [
        "def predict2(x, data, kernel, params, sigma, t):\n",
        "  #print(len(sigma))\n",
        "  k = [kernel(x, y, params) for y in data]\n",
        "  Sinv = np.linalg.inv(sigma)\n",
        "  #print(Sinv)\n",
        "  y_pred = np.dot(k, Sinv).dot(t)\n",
        "  sigma_new = kernel(x, x, params) - np.dot(k, Sinv).dot(k)\n",
        "  #print(len(sigma_new))\n",
        "  return y_pred, sigma_new"
      ],
      "execution_count": 0,
      "outputs": []
    },
    {
      "cell_type": "code",
      "metadata": {
        "id": "KMEq-7WJNm-D",
        "colab_type": "code",
        "outputId": "0a8c6a03-c052-49a5-8c06-9fb1f790bfcd",
        "colab": {
          "base_uri": "https://localhost:8080/",
          "height": 368
        }
      },
      "source": [
        "sigma_sin = exponential_cov2(x0, x0, theta2)\n",
        "print(len(x0))\n",
        "print(len(y0))\n",
        "print(len(sigma_sin))\n",
        "predictions = [predict2(i, x0, exponential_cov, theta2, sigma_sin, y0) for i in x_pred2]\n",
        " \n",
        "y_pred2, sigmas = np.transpose(predictions)\n",
        "print(len(x_pred2))\n",
        "print(len(y_pred2))\n",
        "#plt.errorbar(x_pred2, y_pred, yerr=sigmas, capsize=0)\n",
        "plt.plot(x_pred2, y_pred2, \"b.\")\n",
        "plt.plot(x0, y0, \"ro\")"
      ],
      "execution_count": 39,
      "outputs": [
        {
          "output_type": "stream",
          "text": [
            "20\n",
            "20\n",
            "20\n",
            "100\n",
            "100\n"
          ],
          "name": "stdout"
        },
        {
          "output_type": "execute_result",
          "data": {
            "text/plain": [
              "[<matplotlib.lines.Line2D at 0x7fb09549ff90>]"
            ]
          },
          "metadata": {
            "tags": []
          },
          "execution_count": 39
        },
        {
          "output_type": "display_data",
          "data": {
            "image/png": "[encoded data removed]",
            "text/plain": [
              "<Figure size 432x288 with 1 Axes>"
            ]
          },
          "metadata": {
            "tags": []
          }
        }
      ]
    },
    {
      "cell_type": "markdown",
      "metadata": {
        "id": "9X_F3ieZZlEV",
        "colab_type": "text"
      },
      "source": [
        "prediction not works"
      ]
    },
    {
      "cell_type": "code",
      "metadata": {
        "id": "OOkwwcm9NsvH",
        "colab_type": "code",
        "colab": {}
      },
      "source": [
        "x0 = np.arange(0, 10, 0.5)\n",
        "y0 = np.sin(x0)\n",
        "theta2 = [1, 10]\n",
        "x_pred2 = np.linspace(0, 20, 200)"
      ],
      "execution_count": 0,
      "outputs": []
    },
    {
      "cell_type": "code",
      "metadata": {
        "id": "eUWSIzIMZT20",
        "colab_type": "code",
        "colab": {
          "base_uri": "https://localhost:8080/",
          "height": 368
        },
        "outputId": "d67966f0-ce03-43f2-9551-c8609d533dee"
      },
      "source": [
        "sigma_sin = exponential_cov2(x0, x0, theta2)\n",
        "print(len(x0))\n",
        "print(len(y0))\n",
        "print(len(sigma_sin))\n",
        "predictions = [predict2(i, x0, exponential_cov, theta2, sigma_sin, y0) for i in x_pred2]\n",
        " \n",
        "y_pred2, sigmas = np.transpose(predictions)\n",
        "print(len(x_pred2))\n",
        "print(len(y_pred2))\n",
        "#plt.errorbar(x_pred2, y_pred, yerr=sigmas, capsize=0)\n",
        "plt.plot(x_pred2, y_pred2, \"b.\")\n",
        "plt.plot(x0, y0, \"ro\")"
      ],
      "execution_count": 41,
      "outputs": [
        {
          "output_type": "stream",
          "text": [
            "20\n",
            "20\n",
            "20\n",
            "200\n",
            "200\n"
          ],
          "name": "stdout"
        },
        {
          "output_type": "execute_result",
          "data": {
            "text/plain": [
              "[<matplotlib.lines.Line2D at 0x7fb0955fcf50>]"
            ]
          },
          "metadata": {
            "tags": []
          },
          "execution_count": 41
        },
        {
          "output_type": "display_data",
          "data": {
            "image/png": "[encoded data removed]",
            "text/plain": [
              "<Figure size 432x288 with 1 Axes>"
            ]
          },
          "metadata": {
            "tags": []
          }
        }
      ]
    }
  ]
}