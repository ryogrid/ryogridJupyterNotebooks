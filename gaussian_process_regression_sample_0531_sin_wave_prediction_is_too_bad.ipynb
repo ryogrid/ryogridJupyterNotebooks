{
  "nbformat": 4,
  "nbformat_minor": 0,
  "metadata": {
    "colab": {
      "name": "gaussian_process_regression_sample_0531.ipynb",
      "version": "0.3.2",
      "provenance": [],
      "collapsed_sections": [],
      "include_colab_link": true
    },
    "kernelspec": {
      "name": "python2",
      "display_name": "Python 2"
    }
  },
  "cells": [
    {
      "cell_type": "markdown",
      "metadata": {
        "id": "view-in-github",
        "colab_type": "text"
      },
      "source": [
        "<a href=\"https://colab.research.google.com/github/ryogrid/ryogridJupyterNotebooks/blob/master/gaussian_process_regression_sample_0531_sin_wave_prediction_is_too_bad.ipynb\" target=\"_parent\"><img src=\"https://colab.research.google.com/assets/colab-badge.svg\" alt=\"Open In Colab\"/></a>"
      ]
    },
    {
      "cell_type": "code",
      "metadata": {
        "id": "sxx4445jI9-8",
        "colab_type": "code",
        "colab": {}
      },
      "source": [
        "import numpy as np\n",
        " \n",
        "def exponential_cov(x, y, params):\n",
        "  return params[0] * np.exp( -0.5 * params[1] * np.subtract.outer(x, y)**2)"
      ],
      "execution_count": 0,
      "outputs": []
    },
    {
      "cell_type": "code",
      "metadata": {
        "id": "d04fk63ZJeAK",
        "colab_type": "code",
        "colab": {}
      },
      "source": [
        "def conditional(x_new, x, y, params):\n",
        "  B = exponential_cov(x_new, x, params)\n",
        "  C = exponential_cov(x, x, params)\n",
        "  A = exponential_cov(x_new, x_new, params)\n",
        "\n",
        "  mu = np.linalg.inv(C).dot(B.T).T.dot(y)\n",
        "  sigma = A - B.dot(np.linalg.inv(C).dot(B.T))\n",
        "\n",
        "  return(mu.squeeze(), sigma.squeeze())"
      ],
      "execution_count": 0,
      "outputs": []
    },
    {
      "cell_type": "code",
      "metadata": {
        "id": "88N6nlz6JkqW",
        "colab_type": "code",
        "colab": {
          "base_uri": "https://localhost:8080/",
          "height": 286
        },
        "outputId": "52b22744-2fc3-43ed-82a7-e6719d2d35c1"
      },
      "source": [
        "import matplotlib.pylab as plt\n",
        " \n",
        "theta = [1, 10]\n",
        "sigma_theta = exponential_cov(0, 0, theta)\n",
        "xpts = np.arange(-3, 3, step=0.01)\n",
        "plt.errorbar(xpts, np.zeros(len(xpts)), yerr=sigma_theta, capsize=0)"
      ],
      "execution_count": 26,
      "outputs": [
        {
          "output_type": "execute_result",
          "data": {
            "text/plain": [
              "<ErrorbarContainer object of 3 artists>"
            ]
          },
          "metadata": {
            "tags": []
          },
          "execution_count": 26
        },
        {
          "output_type": "display_data",
          "data": {
            "image/png": "[encoded data removed]",
            "text/plain": [
              "<Figure size 432x288 with 1 Axes>"
            ]
          },
          "metadata": {
            "tags": []
          }
        }
      ]
    },
    {
      "cell_type": "code",
      "metadata": {
        "id": "XN7_3IdGLKwm",
        "colab_type": "code",
        "colab": {
          "base_uri": "https://localhost:8080/",
          "height": 34
        },
        "outputId": "3a1bb091-3c73-4424-a906-5c8e9700f59e"
      },
      "source": [
        "x = [1.]\n",
        "y = [np.random.normal(scale=sigma_theta)]\n",
        "y"
      ],
      "execution_count": 35,
      "outputs": [
        {
          "output_type": "execute_result",
          "data": {
            "text/plain": [
              "[-1.833074514471519]"
            ]
          },
          "metadata": {
            "tags": []
          },
          "execution_count": 35
        }
      ]
    },
    {
      "cell_type": "code",
      "metadata": {
        "id": "uTe1U5MjLZf5",
        "colab_type": "code",
        "colab": {}
      },
      "source": [
        "sigma_1 = exponential_cov(x, x, theta)\n",
        " \n",
        "def predict(x, data, kernel, params, sigma, t):\n",
        "  k = [kernel(x, y, params) for y in data]\n",
        "  Sinv = np.linalg.inv(sigma)\n",
        "  y_pred = np.dot(k, Sinv).dot(t)\n",
        "  sigma_new = kernel(x, x, params) - np.dot(k, Sinv).dot(k)\n",
        "  return y_pred, sigma_new"
      ],
      "execution_count": 0,
      "outputs": []
    },
    {
      "cell_type": "code",
      "metadata": {
        "id": "xeR6503RLlBw",
        "colab_type": "code",
        "colab": {}
      },
      "source": [
        "x_pred = np.linspace(0, 10, 1000)\n",
        "predictions = [predict(i, x, exponential_cov, theta, sigma_1, y) for i in x_pred]"
      ],
      "execution_count": 0,
      "outputs": []
    },
    {
      "cell_type": "code",
      "metadata": {
        "id": "Y8Fs_AgYLseS",
        "colab_type": "code",
        "colab": {
          "base_uri": "https://localhost:8080/",
          "height": 286
        },
        "outputId": "69eb7ab7-0e7d-4d51-f06e-da3a11083ec6"
      },
      "source": [
        "y_pred, sigmas = np.transpose(predictions)\n",
        "#plt.errorbar(x_pred, y_pred, yerr=sigmas, capsize=0)\n",
        "plt.plot(x, y, \"ro\")"
      ],
      "execution_count": 42,
      "outputs": [
        {
          "output_type": "execute_result",
          "data": {
            "text/plain": [
              "[<matplotlib.lines.Line2D at 0x7f524926d9d0>]"
            ]
          },
          "metadata": {
            "tags": []
          },
          "execution_count": 42
        },
        {
          "output_type": "display_data",
          "data": {
            "image/png": "[encoded data removed]",
            "text/plain": [
              "<Figure size 432x288 with 1 Axes>"
            ]
          },
          "metadata": {
            "tags": []
          }
        }
      ]
    },
    {
      "cell_type": "code",
      "metadata": {
        "id": "NCyh5YiBMPdy",
        "colab_type": "code",
        "colab": {
          "base_uri": "https://localhost:8080/",
          "height": 34
        },
        "outputId": "8d32e276-7e8d-4d9d-eb12-67fe31291626"
      },
      "source": [
        "m, s = conditional([-0.7], x, y, theta)\n",
        "y2 = np.random.normal(m, s)\n",
        "y2"
      ],
      "execution_count": 13,
      "outputs": [
        {
          "output_type": "execute_result",
          "data": {
            "text/plain": [
              "0.42700896633374236"
            ]
          },
          "metadata": {
            "tags": []
          },
          "execution_count": 13
        }
      ]
    },
    {
      "cell_type": "code",
      "metadata": {
        "id": "RBJmQH1KMW9R",
        "colab_type": "code",
        "colab": {}
      },
      "source": [
        "x.append(-0.7)\n",
        "y.append(y2)\n",
        " \n",
        "sigma_2 = exponential_cov(x, x, theta)\n",
        "predictions = [predict(i, x, exponential_cov, theta, sigma_2, y) for i in x_pred]"
      ],
      "execution_count": 0,
      "outputs": []
    },
    {
      "cell_type": "code",
      "metadata": {
        "id": "F5Qmxg6yMgC8",
        "colab_type": "code",
        "colab": {
          "base_uri": "https://localhost:8080/",
          "height": 286
        },
        "outputId": "4ad43fe7-6e7b-4cbd-e4fb-8efde0e67807"
      },
      "source": [
        "y_pred, sigmas = np.transpose(predictions)\n",
        "plt.errorbar(x_pred, y_pred, yerr=sigmas, capsize=0)\n",
        "plt.plot(x, y, \"ro\")"
      ],
      "execution_count": 15,
      "outputs": [
        {
          "output_type": "execute_result",
          "data": {
            "text/plain": [
              "[<matplotlib.lines.Line2D at 0x7f5249992ed0>]"
            ]
          },
          "metadata": {
            "tags": []
          },
          "execution_count": 15
        },
        {
          "output_type": "display_data",
          "data": {
            "image/png": "[encoded data removed]",
            "text/plain": [
              "<Figure size 432x288 with 1 Axes>"
            ]
          },
          "metadata": {
            "tags": []
          }
        }
      ]
    },
    {
      "cell_type": "code",
      "metadata": {
        "id": "4JW-yw60M2rv",
        "colab_type": "code",
        "colab": {
          "base_uri": "https://localhost:8080/",
          "height": 34
        },
        "outputId": "cbbc9e1a-3013-4e3b-a143-c7f59b6b664b"
      },
      "source": [
        "x_more = [-2.1, -1.5, 0.3, 1.8, 2.5]\n",
        "mu, s = conditional(x_more, x, y, theta)\n",
        "y_more = np.random.multivariate_normal(mu, s)\n",
        "y_more"
      ],
      "execution_count": 16,
      "outputs": [
        {
          "output_type": "execute_result",
          "data": {
            "text/plain": [
              "array([-0.01646161,  0.16211212,  0.54001413, -1.42182775,  1.05082544])"
            ]
          },
          "metadata": {
            "tags": []
          },
          "execution_count": 16
        }
      ]
    },
    {
      "cell_type": "code",
      "metadata": {
        "id": "_bwuEfWeM8R9",
        "colab_type": "code",
        "colab": {
          "base_uri": "https://localhost:8080/",
          "height": 286
        },
        "outputId": "c117bc23-cb58-409f-bd25-8f82ab25e332"
      },
      "source": [
        "x += x_more\n",
        "y += y_more.tolist()\n",
        " \n",
        "sigma_new = exponential_cov(x, x, theta)\n",
        "predictions = [predict(i, x, exponential_cov, theta, sigma_new, y) for i in x_pred]\n",
        " \n",
        "y_pred, sigmas = np.transpose(predictions)\n",
        "plt.errorbar(x_pred, y_pred, yerr=sigmas, capsize=0)\n",
        "plt.plot(x, y, \"ro\")"
      ],
      "execution_count": 18,
      "outputs": [
        {
          "output_type": "execute_result",
          "data": {
            "text/plain": [
              "[<matplotlib.lines.Line2D at 0x7f52498a4ed0>]"
            ]
          },
          "metadata": {
            "tags": []
          },
          "execution_count": 18
        },
        {
          "output_type": "display_data",
          "data": {
            "image/png": "[encoded data removed]",
            "text/plain": [
              "<Figure size 432x288 with 1 Axes>"
            ]
          },
          "metadata": {
            "tags": []
          }
        }
      ]
    },
    {
      "cell_type": "markdown",
      "metadata": {
        "id": "zwYAM9-1XLoF",
        "colab_type": "text"
      },
      "source": [
        "以下はオリジナルで追加したコード。sin波の学習ができるか試している"
      ]
    },
    {
      "cell_type": "code",
      "metadata": {
        "id": "pWYGSqxSNZXg",
        "colab_type": "code",
        "colab": {}
      },
      "source": [
        "x = np.arange(0, 60, 0.06)\n",
        "y = np.sin(x)\n",
        "theta2 = [1, 1000]\n",
        "x_pred2 = np.linspace(0, 100, 1000)"
      ],
      "execution_count": 0,
      "outputs": []
    },
    {
      "cell_type": "code",
      "metadata": {
        "id": "5z8X3ZN4V63j",
        "colab_type": "code",
        "colab": {}
      },
      "source": [
        "def exponential_cov2(x, y, params):\n",
        "  return params[0] * np.exp( -0.5 * params[1] * np.subtract.outer(x, y)**2)"
      ],
      "execution_count": 0,
      "outputs": []
    },
    {
      "cell_type": "code",
      "metadata": {
        "id": "KMEq-7WJNm-D",
        "colab_type": "code",
        "colab": {
          "base_uri": "https://localhost:8080/",
          "height": 371
        },
        "outputId": "80344325-59b7-4311-b364-b3478f05c916"
      },
      "source": [
        "sigma_sin = exponential_cov2(x, x, theta2)\n",
        "print(len(x))\n",
        "print(len(y))\n",
        "print(len(sigma_sin))\n",
        "predictions = [predict(i, x, exponential_cov, theta2, sigma_sin, y) for i in x_pred2]\n",
        " \n",
        "y_pred, sigmas = np.transpose(predictions)\n",
        "print(len(x_pred2))\n",
        "print(len(y_pred))\n",
        "#plt.errorbar(x_pred2, y_pred, yerr=sigmas, capsize=0)\n",
        "plt.plot(x_pred2, y_pred, \"bo\")\n",
        "plt.plot(x, y, \"ro\")"
      ],
      "execution_count": 75,
      "outputs": [
        {
          "output_type": "stream",
          "text": [
            "1000\n",
            "1000\n",
            "1000\n",
            "1000\n",
            "1000\n"
          ],
          "name": "stdout"
        },
        {
          "output_type": "execute_result",
          "data": {
            "text/plain": [
              "[<matplotlib.lines.Line2D at 0x7f5248b50510>]"
            ]
          },
          "metadata": {
            "tags": []
          },
          "execution_count": 75
        },
        {
          "output_type": "display_data",
          "data": {
            "image/png": "[encoded data removed]",
            "text/plain": [
              "<Figure size 432x288 with 1 Axes>"
            ]
          },
          "metadata": {
            "tags": []
          }
        }
      ]
    },
    {
      "cell_type": "code",
      "metadata": {
        "id": "OOkwwcm9NsvH",
        "colab_type": "code",
        "colab": {}
      },
      "source": [
        ""
      ],
      "execution_count": 0,
      "outputs": []
    }
  ]
}