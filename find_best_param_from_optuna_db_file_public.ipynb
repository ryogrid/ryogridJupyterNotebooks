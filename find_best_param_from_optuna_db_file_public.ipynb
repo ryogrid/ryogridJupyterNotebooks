{
  "nbformat": 4,
  "nbformat_minor": 0,
  "metadata": {
    "colab": {
      "name": "find_best_param_from_optuna_db_file_public.ipynb",
      "version": "0.3.2",
      "provenance": [],
      "collapsed_sections": [],
      "include_colab_link": true
    },
    "kernelspec": {
      "name": "python3",
      "display_name": "Python 3"
    },
    "accelerator": "GPU"
  },
  "cells": [
    {
      "cell_type": "markdown",
      "metadata": {
        "id": "view-in-github",
        "colab_type": "text"
      },
      "source": [
        "<a href=\"https://colab.research.google.com/github/ryogrid/ryogridJupyterNotebooks/blob/master/find_best_param_from_optuna_db_file_public.ipynb\" target=\"_parent\"><img src=\"https://colab.research.google.com/assets/colab-badge.svg\" alt=\"Open In Colab\"/></a>"
      ]
    },
    {
      "metadata": {
        "id": "pci9OBXX_0s0",
        "colab_type": "code",
        "colab": {}
      },
      "cell_type": "code",
      "source": [
        "from google import colab\n",
        "colab.drive.mount('/content/gdrive')"
      ],
      "execution_count": 0,
      "outputs": []
    },
    {
      "metadata": {
        "id": "hgtrYeRw_8tH",
        "colab_type": "code",
        "colab": {}
      },
      "cell_type": "code",
      "source": [
        "%cd \"/content/gdrive/My Drive/\""
      ],
      "execution_count": 0,
      "outputs": []
    },
    {
      "metadata": {
        "id": "tUS6gdeRm8SQ",
        "colab_type": "code",
        "outputId": "3a91391e-0e57-490b-e669-8e23e5d6050b",
        "colab": {
          "base_uri": "https://localhost:8080/",
          "height": 374
        }
      },
      "cell_type": "code",
      "source": [
        "!apt-get install -y sqlite3"
      ],
      "execution_count": 0,
      "outputs": [
        {
          "output_type": "stream",
          "text": [
            "Reading package lists... Done\n",
            "Building dependency tree       \n",
            "Reading state information... Done\n",
            "The following package was automatically installed and is no longer required:\n",
            "  libnvidia-common-410\n",
            "Use 'apt autoremove' to remove it.\n",
            "Suggested packages:\n",
            "  sqlite3-doc\n",
            "The following NEW packages will be installed:\n",
            "  sqlite3\n",
            "0 upgraded, 1 newly installed, 0 to remove and 6 not upgraded.\n",
            "Need to get 751 kB of archives.\n",
            "After this operation, 2,477 kB of additional disk space will be used.\n",
            "Get:1 http://archive.ubuntu.com/ubuntu bionic/main amd64 sqlite3 amd64 3.22.0-1 [751 kB]\n",
            "Fetched 751 kB in 1s (961 kB/s)\n",
            "Selecting previously unselected package sqlite3.\n",
            "(Reading database ... 131304 files and directories currently installed.)\n",
            "Preparing to unpack .../sqlite3_3.22.0-1_amd64.deb ...\n",
            "Unpacking sqlite3 (3.22.0-1) ...\n",
            "Setting up sqlite3 (3.22.0-1) ...\n",
            "Processing triggers for man-db (2.8.3-2ubuntu0.1) ...\n"
          ],
          "name": "stdout"
        }
      ]
    },
    {
      "metadata": {
        "id": "qaCDvfgXoP7g",
        "colab_type": "code",
        "outputId": "067f8886-fe13-42de-bd0d-ecbb4a2e428f",
        "colab": {
          "base_uri": "https://localhost:8080/",
          "height": 34
        }
      },
      "cell_type": "code",
      "source": [
        "!sqlite3 fxsystrade.db 'SELECT trial_id, min(value) as value FROM trials'"
      ],
      "execution_count": 0,
      "outputs": [
        {
          "output_type": "stream",
          "text": [
            "23|0.0754551226492577\n"
          ],
          "name": "stdout"
        }
      ]
    },
    {
      "metadata": {
        "id": "jUVe1vaM807o",
        "colab_type": "code",
        "outputId": "c7edde02-5f93-46d1-fb28-735b42039849",
        "colab": {
          "base_uri": "https://localhost:8080/",
          "height": 190
        }
      },
      "cell_type": "code",
      "source": [
        "!sqlite3 fxsystrade.db 'select * from trial_params where trial_id = 23;'"
      ],
      "execution_count": 0,
      "outputs": [
        {
          "output_type": "stream",
          "text": [
            "378|23|colsample_bytree|0.9|{\"name\": \"DiscreteUniformDistribution\", \"attributes\": {\"low\": 0.5, \"high\": 0.9, \"q\": 0.1}}\n",
            "216|23|eta|0.05|{\"name\": \"DiscreteUniformDistribution\", \"attributes\": {\"low\": 0.05, \"high\": 0.45, \"q\": 0.05}}\n",
            "142|23|long_prob_thresh|0.55|{\"name\": \"DiscreteUniformDistribution\", \"attributes\": {\"low\": 0.5, \"high\": 0.9, \"q\": 0.05}}\n",
            "283|23|max_depth|1.0|{\"name\": \"IntUniformDistribution\", \"attributes\": {\"low\": 1, \"high\": 10}}\n",
            "314|23|min_child_weight|18.0|{\"name\": \"IntUniformDistribution\", \"attributes\": {\"low\": 1, \"high\": 20}}\n",
            "250|23|n_estimators|2327.0|{\"name\": \"IntUniformDistribution\", \"attributes\": {\"low\": 0, \"high\": 10000}}\n",
            "156|23|short_prob_thresh|0.5|{\"name\": \"DiscreteUniformDistribution\", \"attributes\": {\"low\": 0.1, \"high\": 0.5, \"q\": 0.05}}\n",
            "346|23|subsample|0.9|{\"name\": \"DiscreteUniformDistribution\", \"attributes\": {\"low\": 0.5, \"high\": 0.9, \"q\": 0.1}}\n",
            "184|23|vorarity_thresh|0.07|{\"name\": \"DiscreteUniformDistribution\", \"attributes\": {\"low\": 0.01, \"high\": 0.29000000000000004, \"q\": 0.02}}\n"
          ],
          "name": "stdout"
        }
      ]
    }
  ]
}