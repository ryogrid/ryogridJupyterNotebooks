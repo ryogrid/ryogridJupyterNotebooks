{
  "nbformat": 4,
  "nbformat_minor": 0,
  "metadata": {
    "colab": {
      "name": "gaussian_process_regression_sample_org_0601.ipynb ",
      "version": "0.3.2",
      "provenance": [],
      "collapsed_sections": [],
      "include_colab_link": true
    },
    "kernelspec": {
      "name": "python2",
      "display_name": "Python 2"
    }
  },
  "cells": [
    {
      "cell_type": "markdown",
      "metadata": {
        "id": "view-in-github",
        "colab_type": "text"
      },
      "source": [
        "<a href=\"https://colab.research.google.com/github/ryogrid/ryogridJupyterNotebooks/blob/master/gaussian_process_regression_sample_org_0601_other_impl_notwork_2_1303.ipynb\" target=\"_parent\"><img src=\"https://colab.research.google.com/assets/colab-badge.svg\" alt=\"Open In Colab\"/></a>"
      ]
    },
    {
      "cell_type": "code",
      "metadata": {
        "id": "sxx4445jI9-8",
        "colab_type": "code",
        "colab": {}
      },
      "source": [
        "import numpy as np\n",
        " \n",
        "def exponential_cov(x, y, params):\n",
        "  return params[0] * np.exp( -0.5 * params[1] * np.subtract.outer(x, y)**2)"
      ],
      "execution_count": 0,
      "outputs": []
    },
    {
      "cell_type": "code",
      "metadata": {
        "id": "d04fk63ZJeAK",
        "colab_type": "code",
        "colab": {}
      },
      "source": [
        "def conditional(x_new, x, y, params):\n",
        "  B = exponential_cov(x_new, x, params)\n",
        "  C = exponential_cov(x, x, params)\n",
        "  A = exponential_cov(x_new, x_new, params)\n",
        "\n",
        "  mu = np.linalg.inv(C).dot(B.T).T.dot(y)\n",
        "  sigma = A - B.dot(np.linalg.inv(C).dot(B.T))\n",
        "\n",
        "  return(mu.squeeze(), sigma.squeeze())"
      ],
      "execution_count": 0,
      "outputs": []
    },
    {
      "cell_type": "code",
      "metadata": {
        "id": "88N6nlz6JkqW",
        "colab_type": "code",
        "outputId": "1f71a86a-7cbc-4298-c2aa-bbe34e9d97db",
        "colab": {
          "base_uri": "https://localhost:8080/",
          "height": 285
        }
      },
      "source": [
        "import matplotlib.pylab as plt\n",
        " \n",
        "theta = [1, 10]\n",
        "sigma_theta = exponential_cov(0, 0, theta)\n",
        "xpts = np.arange(-3, 3, step=0.01)\n",
        "plt.errorbar(xpts, np.zeros(len(xpts)), yerr=sigma_theta, capsize=0)"
      ],
      "execution_count": 0,
      "outputs": [
        {
          "output_type": "execute_result",
          "data": {
            "text/plain": [
              "<ErrorbarContainer object of 3 artists>"
            ]
          },
          "metadata": {
            "tags": []
          },
          "execution_count": 3
        },
        {
          "output_type": "display_data",
          "data": {
            "image/png": "[encoded data removed]",
            "text/plain": [
              "<Figure size 432x288 with 1 Axes>"
            ]
          },
          "metadata": {
            "tags": []
          }
        }
      ]
    },
    {
      "cell_type": "code",
      "metadata": {
        "id": "XN7_3IdGLKwm",
        "colab_type": "code",
        "outputId": "b9a36a5c-6047-427c-9dc2-84be2f4a2b74",
        "colab": {
          "base_uri": "https://localhost:8080/",
          "height": 33
        }
      },
      "source": [
        "x = [1.]\n",
        "y = [np.random.normal(scale=sigma_theta)]\n",
        "y"
      ],
      "execution_count": 0,
      "outputs": [
        {
          "output_type": "execute_result",
          "data": {
            "text/plain": [
              "[0.3687937514053605]"
            ]
          },
          "metadata": {
            "tags": []
          },
          "execution_count": 18
        }
      ]
    },
    {
      "cell_type": "code",
      "metadata": {
        "id": "uTe1U5MjLZf5",
        "colab_type": "code",
        "colab": {}
      },
      "source": [
        "sigma_1 = exponential_cov(x, x, theta)\n",
        " \n",
        "def predict(x, data, kernel, params, sigma, t):\n",
        "  k = [kernel(x, y, params) for y in data]\n",
        "  Sinv = np.linalg.inv(sigma)\n",
        "  y_pred = np.dot(k, Sinv).dot(t)\n",
        "  sigma_new = kernel(x, x, params) - np.dot(k, Sinv).dot(k)\n",
        "  return y_pred, sigma_new"
      ],
      "execution_count": 0,
      "outputs": []
    },
    {
      "cell_type": "code",
      "metadata": {
        "id": "xeR6503RLlBw",
        "colab_type": "code",
        "colab": {}
      },
      "source": [
        "x_pred = np.linspace(-3, 3, 100)\n",
        "predictions = [predict(i, x, exponential_cov, theta, sigma_1, y) for i in x_pred]"
      ],
      "execution_count": 0,
      "outputs": []
    },
    {
      "cell_type": "code",
      "metadata": {
        "id": "Y8Fs_AgYLseS",
        "colab_type": "code",
        "outputId": "9c90ec53-f9fe-4ea8-ad5a-5e885344e1e0",
        "colab": {
          "base_uri": "https://localhost:8080/",
          "height": 285
        }
      },
      "source": [
        "y_pred, sigmas = np.transpose(predictions)\n",
        "#plt.errorbar(x_pred, y_pred, yerr=sigmas, capsize=0)\n",
        "plt.plot(x, y, \"ro\")"
      ],
      "execution_count": 0,
      "outputs": [
        {
          "output_type": "execute_result",
          "data": {
            "text/plain": [
              "[<matplotlib.lines.Line2D at 0x7fb098c6b890>]"
            ]
          },
          "metadata": {
            "tags": []
          },
          "execution_count": 7
        },
        {
          "output_type": "display_data",
          "data": {
            "image/png": "[encoded data removed]",
            "text/plain": [
              "<Figure size 432x288 with 1 Axes>"
            ]
          },
          "metadata": {
            "tags": []
          }
        }
      ]
    },
    {
      "cell_type": "code",
      "metadata": {
        "id": "NCyh5YiBMPdy",
        "colab_type": "code",
        "outputId": "c070a2cf-f779-4380-a121-a2f9b8735f4a",
        "colab": {
          "base_uri": "https://localhost:8080/",
          "height": 33
        }
      },
      "source": [
        "m, s = conditional([-0.7], x, y, theta)\n",
        "y2 = np.random.normal(m, s)\n",
        "y2"
      ],
      "execution_count": 0,
      "outputs": [
        {
          "output_type": "execute_result",
          "data": {
            "text/plain": [
              "0.6824750664074756"
            ]
          },
          "metadata": {
            "tags": []
          },
          "execution_count": 8
        }
      ]
    },
    {
      "cell_type": "code",
      "metadata": {
        "id": "RBJmQH1KMW9R",
        "colab_type": "code",
        "colab": {}
      },
      "source": [
        "x.append(-0.7)\n",
        "y.append(y2)\n",
        " \n",
        "sigma_2 = exponential_cov(x, x, theta)\n",
        "predictions = [predict(i, x, exponential_cov, theta, sigma_2, y) for i in x_pred]"
      ],
      "execution_count": 0,
      "outputs": []
    },
    {
      "cell_type": "code",
      "metadata": {
        "id": "F5Qmxg6yMgC8",
        "colab_type": "code",
        "outputId": "f588cddf-5706-46ad-ff31-21e37cc1b1cc",
        "colab": {
          "base_uri": "https://localhost:8080/",
          "height": 285
        }
      },
      "source": [
        "y_pred, sigmas = np.transpose(predictions)\n",
        "plt.errorbar(x_pred, y_pred, yerr=sigmas, capsize=0)\n",
        "plt.plot(x, y, \"ro\")"
      ],
      "execution_count": 0,
      "outputs": [
        {
          "output_type": "execute_result",
          "data": {
            "text/plain": [
              "[<matplotlib.lines.Line2D at 0x7fb09583cf90>]"
            ]
          },
          "metadata": {
            "tags": []
          },
          "execution_count": 21
        },
        {
          "output_type": "display_data",
          "data": {
            "image/png": "[encoded data removed]",
            "text/plain": [
              "<Figure size 432x288 with 1 Axes>"
            ]
          },
          "metadata": {
            "tags": []
          }
        }
      ]
    },
    {
      "cell_type": "code",
      "metadata": {
        "id": "4JW-yw60M2rv",
        "colab_type": "code",
        "outputId": "cf4f3981-42e9-41ad-8055-22b2bf6f6364",
        "colab": {
          "base_uri": "https://localhost:8080/",
          "height": 33
        }
      },
      "source": [
        "x_more = [-2.1, -1.5, 0.3, 1.8, 2.5]\n",
        "mu, s = conditional(x_more, x, y, theta)\n",
        "y_more = np.random.multivariate_normal(mu, s)\n",
        "y_more"
      ],
      "execution_count": 0,
      "outputs": [
        {
          "output_type": "execute_result",
          "data": {
            "text/plain": [
              "array([ 0.14457513, -0.56748689, -0.11960339,  0.71469824,  0.2201649 ])"
            ]
          },
          "metadata": {
            "tags": []
          },
          "execution_count": 22
        }
      ]
    },
    {
      "cell_type": "code",
      "metadata": {
        "id": "_bwuEfWeM8R9",
        "colab_type": "code",
        "outputId": "3c8b0209-318a-4141-8fdb-962b63d6272b",
        "colab": {
          "base_uri": "https://localhost:8080/",
          "height": 285
        }
      },
      "source": [
        "x += x_more\n",
        "y += y_more.tolist()\n",
        " \n",
        "sigma_new = exponential_cov(x, x, theta)\n",
        "predictions = [predict(i, x, exponential_cov, theta, sigma_new, y) for i in x_pred]\n",
        " \n",
        "y_pred, sigmas = np.transpose(predictions)\n",
        "plt.errorbar(x_pred, y_pred, yerr=sigmas, capsize=0)\n",
        "plt.plot(x, y, \"ro\")"
      ],
      "execution_count": 0,
      "outputs": [
        {
          "output_type": "execute_result",
          "data": {
            "text/plain": [
              "[<matplotlib.lines.Line2D at 0x7fb09591a4d0>]"
            ]
          },
          "metadata": {
            "tags": []
          },
          "execution_count": 23
        },
        {
          "output_type": "display_data",
          "data": {
            "image/png": "[encoded data removed]",
            "text/plain": [
              "<Figure size 432x288 with 1 Axes>"
            ]
          },
          "metadata": {
            "tags": []
          }
        }
      ]
    },
    {
      "cell_type": "markdown",
      "metadata": {
        "id": "zwYAM9-1XLoF",
        "colab_type": "text"
      },
      "source": [
        "以下はオリジナルで追加したコード。sin波の学習ができるか試している"
      ]
    },
    {
      "cell_type": "markdown",
      "metadata": {
        "id": "KBnkVaaWY5BR",
        "colab_type": "text"
      },
      "source": [
        "berow param shows nice fitting"
      ]
    },
    {
      "cell_type": "code",
      "metadata": {
        "id": "pWYGSqxSNZXg",
        "colab_type": "code",
        "colab": {}
      },
      "source": [
        "x0 = np.arange(0, 10, 0.5)\n",
        "y0 = np.sin(x0)\n",
        "theta2 = [1, 10]\n",
        "x_pred2 = np.linspace(0, 10, 100)"
      ],
      "execution_count": 0,
      "outputs": []
    },
    {
      "cell_type": "code",
      "metadata": {
        "id": "5z8X3ZN4V63j",
        "colab_type": "code",
        "colab": {}
      },
      "source": [
        "def exponential_cov2(x, y, params):\n",
        "  return params[0] * np.exp( -0.5 * params[1] * np.subtract.outer(x, y)**2)"
      ],
      "execution_count": 0,
      "outputs": []
    },
    {
      "cell_type": "code",
      "metadata": {
        "id": "8VoH2iUuRyei",
        "colab_type": "code",
        "colab": {}
      },
      "source": [
        "def predict2(x_pred_elem, x0, kernel, params, sigma, y0):\n",
        "  #print(len(sigma))\n",
        "  k = [kernel(x_pred_elem, y, params) for y in x0]\n",
        "  Sinv = np.linalg.inv(sigma)\n",
        "  #print(Sinv)\n",
        "  y_pred = np.dot(k, Sinv).dot(y0)\n",
        "  sigma_new = kernel(x_pred_elem, x_pred_elem, params) - np.dot(k, Sinv).dot(k)\n",
        "  #print(len(sigma_new))\n",
        "  return y_pred, sigma_new"
      ],
      "execution_count": 0,
      "outputs": []
    },
    {
      "cell_type": "code",
      "metadata": {
        "id": "KMEq-7WJNm-D",
        "colab_type": "code",
        "outputId": "11ec500b-02e0-4252-acdc-3a1418e25934",
        "colab": {
          "base_uri": "https://localhost:8080/",
          "height": 371
        }
      },
      "source": [
        "sigma_sin = exponential_cov2(x0, x0, theta2)\n",
        "print(len(x0))\n",
        "print(len(y0))\n",
        "print(len(sigma_sin))\n",
        "predictions = [predict2(x_pred_elem, x0, exponential_cov2, theta2, sigma_sin, y0) for x_pred_elem in x_pred2]\n",
        " \n",
        "y_pred2, sigmas = np.transpose(predictions)\n",
        "print(len(x_pred2))\n",
        "print(len(y_pred2))\n",
        "#plt.errorbar(x_pred2, y_pred, yerr=sigmas, capsize=0)\n",
        "plt.plot(x_pred2, y_pred2, \"b.\")\n",
        "plt.plot(x0, y0, \"ro\")"
      ],
      "execution_count": 54,
      "outputs": [
        {
          "output_type": "stream",
          "text": [
            "20\n",
            "20\n",
            "20\n",
            "100\n",
            "100\n"
          ],
          "name": "stdout"
        },
        {
          "output_type": "execute_result",
          "data": {
            "text/plain": [
              "[<matplotlib.lines.Line2D at 0x7f21ec6a4250>]"
            ]
          },
          "metadata": {
            "tags": []
          },
          "execution_count": 54
        },
        {
          "output_type": "display_data",
          "data": {
            "image/png": "[encoded data removed]",
            "text/plain": [
              "<Figure size 432x288 with 1 Axes>"
            ]
          },
          "metadata": {
            "tags": []
          }
        }
      ]
    },
    {
      "cell_type": "markdown",
      "metadata": {
        "id": "9X_F3ieZZlEV",
        "colab_type": "text"
      },
      "source": [
        "prediction not works"
      ]
    },
    {
      "cell_type": "code",
      "metadata": {
        "id": "OOkwwcm9NsvH",
        "colab_type": "code",
        "colab": {}
      },
      "source": [
        "x0 = np.arange(0, 10, 0.5)\n",
        "y0 = np.sin(x0)\n",
        "theta2 = [1, 10]\n",
        "x_pred2 = np.linspace(0, 20, 200)"
      ],
      "execution_count": 0,
      "outputs": []
    },
    {
      "cell_type": "code",
      "metadata": {
        "id": "eUWSIzIMZT20",
        "colab_type": "code",
        "outputId": "d67966f0-ce03-43f2-9551-c8609d533dee",
        "colab": {
          "base_uri": "https://localhost:8080/",
          "height": 368
        }
      },
      "source": [
        "sigma_sin = exponential_cov2(x0, x0, theta2)\n",
        "print(len(x0))\n",
        "print(len(y0))\n",
        "print(len(sigma_sin))\n",
        "predictions = [predict2(i, x0, exponential_cov, theta2, sigma_sin, y0) for i in x_pred2]\n",
        " \n",
        "y_pred2, sigmas = np.transpose(predictions)\n",
        "print(len(x_pred2))\n",
        "print(len(y_pred2))\n",
        "#plt.errorbar(x_pred2, y_pred, yerr=sigmas, capsize=0)\n",
        "plt.plot(x_pred2, y_pred2, \"b.\")\n",
        "plt.plot(x0, y0, \"ro\")"
      ],
      "execution_count": 0,
      "outputs": [
        {
          "output_type": "stream",
          "text": [
            "20\n",
            "20\n",
            "20\n",
            "200\n",
            "200\n"
          ],
          "name": "stdout"
        },
        {
          "output_type": "execute_result",
          "data": {
            "text/plain": [
              "[<matplotlib.lines.Line2D at 0x7fb0955fcf50>]"
            ]
          },
          "metadata": {
            "tags": []
          },
          "execution_count": 41
        },
        {
          "output_type": "display_data",
          "data": {
            "image/png": "[encoded data removed]",
            "text/plain": [
              "<Figure size 432x288 with 1 Axes>"
            ]
          },
          "metadata": {
            "tags": []
          }
        }
      ]
    },
    {
      "cell_type": "markdown",
      "metadata": {
        "id": "TKuT7R2p3aGO",
        "colab_type": "text"
      },
      "source": [
        "別実装のコードで書いてみる（現状うまくいかず)"
      ]
    },
    {
      "cell_type": "code",
      "metadata": {
        "id": "5mU3uqWH574_",
        "colab_type": "code",
        "colab": {}
      },
      "source": [
        "import numpy as np\n",
        "import matplotlib.pylab as plt\n",
        "\n",
        "class BasicKernel:\n",
        "  def __init__(self, param):\n",
        "    self.param = param\n",
        "  \n",
        "  def __call__(self,x, y):\n",
        "    a, w = self.param\n",
        "    print(x.shape)\n",
        "    print(y.shape)\n",
        "    return a * np.exp( -0.5 * w * np.subtract.outer(x[:,0], y[:,0])**2)\n",
        "    #return a * np.exp( -0.5 * w * np.subtract.outer(x, y)**2)\n",
        "    "
      ],
      "execution_count": 0,
      "outputs": []
    },
    {
      "cell_type": "code",
      "metadata": {
        "id": "cvFgwkGl2tVq",
        "colab_type": "code",
        "colab": {
          "base_uri": "https://localhost:8080/",
          "height": 119
        },
        "outputId": "bc140a8a-87bb-4ae4-8c70-7074fc29edf9"
      },
      "source": [
        "theta3 = [1, 20]\n",
        "x0 = np.arange(0, 10, 0.5)\n",
        "y0 = np.sin(x0)\n",
        "x1 = np.linspace(0, 10, 20) \n",
        "\n",
        "kernel = BasicKernel(theta3)\n",
        "\n",
        "noise_mat = np.eye(20) * 0.01\n",
        "\n",
        "             \n",
        "k00 = kernel(*np.meshgrid(x0,x0))\n",
        "print(k00.shape)\n",
        "k00 = k00 + noise_mat\n",
        "#print(k00)\n",
        "k00_inv = np.linalg.inv(k00) # 逆行列"
      ],
      "execution_count": 37,
      "outputs": [
        {
          "output_type": "stream",
          "text": [
            "(20,)\n",
            "[0.  0.5 1.  1.5 2.  2.5 3.  3.5 4.  4.5 5.  5.5 6.  6.5 7.  7.5 8.  8.5\n",
            " 9.  9.5]\n",
            "(20, 20)\n",
            "(20, 20)\n",
            "(20, 20)\n"
          ],
          "name": "stdout"
        }
      ]
    },
    {
      "cell_type": "code",
      "metadata": {
        "id": "gMn7Bkz-_y_M",
        "colab_type": "code",
        "colab": {
          "base_uri": "https://localhost:8080/",
          "height": 85
        },
        "outputId": "27705fb0-e657-42a3-ea81-90f0e331d9f4"
      },
      "source": [
        "k01 = kernel(*np.meshgrid(x0,x1,indexing='ij'))\n",
        "k10 = k01.T\n",
        "k11 = kernel(*np.meshgrid(x1,x1))"
      ],
      "execution_count": 30,
      "outputs": [
        {
          "output_type": "stream",
          "text": [
            "(20, 20)\n",
            "(20, 20)\n",
            "(20, 20)\n",
            "(20, 20)\n"
          ],
          "name": "stdout"
        }
      ]
    },
    {
      "cell_type": "code",
      "metadata": {
        "id": "-CIg1iVQBh2V",
        "colab_type": "code",
        "colab": {}
      },
      "source": [
        "mu = k10.dot(k00_inv.dot(y0)) #フィッティングした値"
      ],
      "execution_count": 0,
      "outputs": []
    },
    {
      "cell_type": "code",
      "metadata": {
        "id": "6zfENwD8Bk3d",
        "colab_type": "code",
        "colab": {}
      },
      "source": [
        "#sigma = k11 - k10.dot(k00_1.dot(k01))"
      ],
      "execution_count": 0,
      "outputs": []
    },
    {
      "cell_type": "code",
      "metadata": {
        "id": "dofVIiiI3-vI",
        "colab_type": "code",
        "colab": {
          "base_uri": "https://localhost:8080/",
          "height": 269
        },
        "outputId": "f1cb7871-b852-437e-9be0-ab0f704ae880"
      },
      "source": [
        "plt.scatter(x0,y0,c='#ff77aa')\n",
        "plt.plot(x1,mu,'g') # 推測された平均\n",
        "#plt.plot(x0,y0,'--r') # 本物の関数\n",
        "#std = np.sqrt(sigma.diagonal()) # 各点の標準偏差は共分散行列の対角成分\n",
        "#plt.fill_between(x1, mu-std, mu+std, alpha=0.2, color='g') # 推測された標準偏差の中の領域\n",
        "plt.show()"
      ],
      "execution_count": 34,
      "outputs": [
        {
          "output_type": "display_data",
          "data": {
            "image/png": "[encoded data removed]",
            "text/plain": [
              "<Figure size 432x288 with 1 Axes>"
            ]
          },
          "metadata": {
            "tags": []
          }
        }
      ]
    },
    {
      "cell_type": "code",
      "metadata": {
        "id": "RmNSd9dRCFxD",
        "colab_type": "code",
        "colab": {
          "base_uri": "https://localhost:8080/",
          "height": 34
        },
        "outputId": "615a946a-9baa-4c99-a3ea-f4e2a2761063"
      },
      "source": [
        "print(mu.shape)"
      ],
      "execution_count": 16,
      "outputs": [
        {
          "output_type": "stream",
          "text": [
            "(20, 20, 20, 20, 20)\n"
          ],
          "name": "stdout"
        }
      ]
    },
    {
      "cell_type": "markdown",
      "metadata": {
        "id": "7TOBXMf_KOWp",
        "colab_type": "text"
      },
      "source": [
        "まるっとコピー"
      ]
    },
    {
      "cell_type": "code",
      "metadata": {
        "id": "F7b_3HWlKSEq",
        "colab_type": "code",
        "colab": {
          "base_uri": "https://localhost:8080/",
          "height": 269
        },
        "outputId": "f9cf0b60-ee43-4f87-a8e9-6a780e02ae00"
      },
      "source": [
        "import numpy as np\n",
        "import matplotlib.pyplot as plt\n",
        "\n",
        "class RBFkernel:\n",
        "    def __init__(self,*param):\n",
        "        self.param = list(param)\n",
        "\n",
        "    def __call__(self,x1,x2):\n",
        "        a,s,w = self.param\n",
        "        return a**2*np.exp(-((x1-x2)/s)**2) + w*(x1==x2)\n",
        "\n",
        "def y(x): # 知りたい関数の正体\n",
        "    return 0.1*x**3-x**2+2*x+5\n",
        "\n",
        "x0 = np.random.uniform(0,10,30) # 既知の点\n",
        "y0 = y(x0) + np.random.normal(0,2,30) # 関数にノイズを加える\n",
        "x1 = np.linspace(-1,11,101) # 探す点\n",
        "\n",
        "kernel = RBFkernel(8,0.5,3.5) # 適当なパラメータを使うカーネル関数\n",
        "\n",
        "k00 = kernel(*np.meshgrid(x0,x0))\n",
        "k00_1 = np.linalg.inv(k00) # 逆行列\n",
        "k01 = kernel(*np.meshgrid(x0,x1,indexing='ij'))\n",
        "k10 = k01.T\n",
        "k11 = kernel(*np.meshgrid(x1,x1))\n",
        "\n",
        "# ここでは上述の方程式の通りのμとΣ\n",
        "mu = k10.dot(k00_1.dot(y0))\n",
        "sigma = k11 - k10.dot(k00_1.dot(k01))\n",
        "\n",
        "plt.scatter(x0,y0,c='#ff77aa')\n",
        "plt.plot(x1,mu,'g') # 推測された平均\n",
        "plt.plot(x1,y(x1),'--r') # 本物の関数\n",
        "std = np.sqrt(sigma.diagonal()) # 各点の標準偏差は共分散行列の対角成分\n",
        "plt.fill_between(x1,mu-std,mu+std,alpha=0.2,color='g') # 推測された標準偏差の中の領域\n",
        "plt.show()"
      ],
      "execution_count": 35,
      "outputs": [
        {
          "output_type": "display_data",
          "data": {
            "image/png": "[encoded data removed]",
            "text/plain": [
              "<Figure size 432x288 with 1 Axes>"
            ]
          },
          "metadata": {
            "tags": []
          }
        }
      ]
    }
  ]
}