{
  "nbformat": 4,
  "nbformat_minor": 0,
  "metadata": {
    "colab": {
      "provenance": [],
      "include_colab_link": true
    },
    "kernelspec": {
      "name": "python3",
      "display_name": "Python 3"
    },
    "language_info": {
      "name": "python"
    }
  },
  "cells": [
    {
      "cell_type": "markdown",
      "metadata": {
        "id": "view-in-github",
        "colab_type": "text"
      },
      "source": [
        "<a href=\"https://colab.research.google.com/github/ryogrid/ryogridJupyterNotebooks/blob/master/pdf_translate_fugumt_share.ipynb\" target=\"_parent\"><img src=\"https://colab.research.google.com/assets/colab-badge.svg\" alt=\"Open In Colab\"/></a>"
      ]
    },
    {
      "cell_type": "markdown",
      "source": [
        "## 概要\n",
        "\n",
        "pdf形式の英語論文を翻訳するやつ\n",
        "\n",
        "## 使い方や説明など\n",
        "\n",
        "https://qiita.com/sakasegawa/items/f50aae7f3acf475411aa\n",
        "\n",
        "## 注意\n",
        "\n",
        "- pipのlayoutparserインストールのとこでruntime restartボタンが出るから初回実行時はrestart一回かける必要あり\n",
        "\n",
        "## memo\n",
        "\n",
        "DPI = 72 くらいでいいかも\n",
        "\n",
        "by https://twitter.com/gyakuse"
      ],
      "metadata": {
        "id": "vRf6T1aOt4o-"
      }
    },
    {
      "cell_type": "markdown",
      "source": [
        "## 準備"
      ],
      "metadata": {
        "id": "RuaQDKPeuKMb"
      }
    },
    {
      "cell_type": "code",
      "source": [
        "# Install libraries\n",
        "!pip install pillow\n",
        "!pip install layoutparser # Install the base layoutparser library with\n",
        "!pip install layoutparser torchvision && pip install \"git+https://github.com/facebookresearch/detectron2.git@v0.5#egg=detectron2\"\n",
        "!pip install \"layoutparser[layoutmodels]\" # Install DL layout model toolkit\n",
        "!apt-get install poppler-utils\n",
        "!pip install reportlab\n",
        "!pip install pypdf\n",
        "!pip install transformers\n",
        "!pip install sentencepiece"
      ],
      "metadata": {
        "id": "dq4RvRMtuQnq"
      },
      "execution_count": null,
      "outputs": []
    },
    {
      "cell_type": "code",
      "source": [
        "from google.colab import files\n",
        "uploaded = files.upload()"
      ],
      "metadata": {
        "id": "L5WPyMY-nTqg"
      },
      "execution_count": null,
      "outputs": []
    },
    {
      "cell_type": "code",
      "source": [
        "pdf_file_name = list(uploaded.keys())[0]\n",
        "target_pdf_file_path = '/content/' + pdf_file_name\n",
        "is_mihiraki = True"
      ],
      "metadata": {
        "id": "2WoTZkIJn4w3"
      },
      "execution_count": null,
      "outputs": []
    },
    {
      "cell_type": "code",
      "source": [
        "# フォントをダウンロード\n",
        "font_name = 'BIZUDGothic'\n",
        "font_ttf = 'BIZUDGothic-Regular.ttf'\n",
        "font_url = f'https://github.com/googlefonts/morisawa-biz-ud-gothic/raw/main/fonts/ttf/{font_ttf}'\n",
        "\n",
        "!wget https://github.com/googlefonts/morisawa-biz-ud-gothic/raw/main/fonts/ttf/BIZUDGothic-Regular.ttf"
      ],
      "metadata": {
        "id": "fi_9YO3D4TDB"
      },
      "execution_count": null,
      "outputs": []
    },
    {
      "cell_type": "code",
      "source": [
        "%ls"
      ],
      "metadata": {
        "id": "WdSlCwyPqxDO"
      },
      "execution_count": null,
      "outputs": []
    },
    {
      "cell_type": "markdown",
      "source": [
        "## 実行"
      ],
      "metadata": {
        "id": "bInDDGzDved7"
      }
    },
    {
      "cell_type": "code",
      "source": [
        "DPI = 72"
      ],
      "metadata": {
        "id": "zkKUK3o-xJWj"
      },
      "execution_count": null,
      "outputs": []
    },
    {
      "cell_type": "code",
      "source": [
        "# pdfを画像として読み込む\n",
        "import pdf2image\n",
        "import numpy as np\n",
        "import matplotlib.pyplot as plt\n",
        "def pdf_to_image(file_path, page_num):\n",
        "    return np.asarray(pdf2image.convert_from_path(file_path, dpi = DPI)[page_num])"
      ],
      "metadata": {
        "id": "HYy5JK53w19F"
      },
      "execution_count": null,
      "outputs": []
    },
    {
      "cell_type": "code",
      "source": [
        "# 特定のtext_blockがparagraph_blockに含まれているかチェック\n",
        "def is_inside(paragraph_block, text_block):\n",
        "    paragraph_width = paragraph_block.block.x_2 - paragraph_block.block.x_1\n",
        "    paragraph_height = paragraph_block.block.y_2 - paragraph_block.block.y_1\n",
        "    if paragraph_width > 300:\n",
        "        allowable_error_pixel = 10\n",
        "        return (text_block.block.x_1 >= paragraph_block.block.x_1 - allowable_error_pixel and text_block.block.y_1 >= paragraph_block.block.y_1 and\n",
        "                text_block.block.x_2 <= paragraph_block.block.x_2 + allowable_error_pixel and text_block.block.y_2 <= paragraph_block.block.y_2 + allowable_error_pixel)\n",
        "    else:\n",
        "        allowable_error_pixel = 3\n",
        "        return (text_block.block.x_1 >= paragraph_block.block.x_1 - allowable_error_pixel and text_block.block.y_1 >= paragraph_block.block.y_1 and\n",
        "                text_block.block.x_2 <= paragraph_block.block.x_2 + allowable_error_pixel and text_block.block.y_2 <= paragraph_block.block.y_2 + allowable_error_pixel)"
      ],
      "metadata": {
        "id": "H6utU-XL2WgK"
      },
      "execution_count": null,
      "outputs": []
    },
    {
      "cell_type": "code",
      "source": [
        "def fill_cover(canvas, x, y, width, height):\n",
        "    canvas.setFillColorRGB(1, 1, 1)\n",
        "    # でかいパラグラフは検出精度悪いので補正する\n",
        "    if width > 300:\n",
        "        canvas.rect(\n",
        "            x - 5,\n",
        "            y,\n",
        "            width + 10,\n",
        "            height + 10,\n",
        "            stroke=0,\n",
        "            fill=1\n",
        "        )\n",
        "    else:\n",
        "        canvas.rect(\n",
        "            x,\n",
        "            y,\n",
        "            width,\n",
        "            height,\n",
        "            stroke=0,\n",
        "            fill=1\n",
        "        )"
      ],
      "metadata": {
        "id": "9YaNsFzd6nlP"
      },
      "execution_count": null,
      "outputs": []
    },
    {
      "cell_type": "code",
      "source": [
        "def calc_fontsize(paragraph_width, paragraph_height, translated_text):\n",
        "    return int(numpy.sqrt((paragraph_width) * (paragraph_height) / len(translated_text)))"
      ],
      "metadata": {
        "id": "M1hojIWKgLQ-"
      },
      "execution_count": null,
      "outputs": []
    },
    {
      "cell_type": "code",
      "source": [
        "# pdfを読み込む\n",
        "import cv2\n",
        "import layoutparser as lp\n",
        "\n",
        "pdf_pages, _ = lp.load_pdf(target_pdf_file_path, load_images=True, dpi=DPI)"
      ],
      "metadata": {
        "id": "cir_eUVmubT5"
      },
      "execution_count": null,
      "outputs": []
    },
    {
      "cell_type": "code",
      "source": [
        "# レイアウト(物体)検出モデルを準備\n",
        "import layoutparser as lp\n",
        "model = lp.Detectron2LayoutModel('lp://PubLayNet/mask_rcnn_X_101_32x8d_FPN_3x/config',\n",
        "                                extra_config=[\"MODEL.ROI_HEADS.SCORE_THRESH_TEST\", 0.5],\n",
        "                                label_map={0: \"Text\", 1: \"Title\", 2: \"List\", 3:\"Table\", 4:\"Figure\"})"
      ],
      "metadata": {
        "id": "eZhqMlxe0kHi"
      },
      "execution_count": null,
      "outputs": []
    },
    {
      "cell_type": "code",
      "source": [
        "from PIL import Image, ImageDraw, ImageFont\n",
        "\n",
        "def get_max_font_size(paragraph_width, paragraph_height, translated_text, font_face=\"./BIZUDGothic-Regular.ttf\", max_font_size=100):\n",
        "    \"\"\"\n",
        "    指定された領域内で最大のフォントサイズを求める。\n",
        "    :param text: 描画する文字列。\n",
        "    :param font_face: フォント名。\n",
        "    :param rectangle: 描画領域を表すタプル (x0, y0, x1, y1)。\n",
        "    :param max_font_size: 最大フォントサイズ。デフォルトは 100。\n",
        "    :return: 最大フォントサイズ。\n",
        "    \"\"\"\n",
        "    for font_size in range(max_font_size, 0, -1):\n",
        "        font = ImageFont.truetype(font_face, font_size)\n",
        "        # 描画する文字列のサイズを求める\n",
        "        text_width, text_height = font.getsize(translated_text)\n",
        "        if text_width <= paragraph_width and text_height <= paragraph_height:\n",
        "            return font_size\n",
        "    return 0"
      ],
      "metadata": {
        "id": "qwrMPrEimoWz"
      },
      "execution_count": null,
      "outputs": []
    },
    {
      "cell_type": "code",
      "source": [
        "# フォント登録\n",
        "from reportlab.pdfbase import pdfmetrics\n",
        "from reportlab.pdfbase.ttfonts import TTFont\n",
        "\n",
        "pdfmetrics.registerFont(TTFont(font_name, font_ttf))"
      ],
      "metadata": {
        "id": "PIItDfXL4cgq"
      },
      "execution_count": null,
      "outputs": []
    },
    {
      "cell_type": "code",
      "source": [
        "# 翻訳モデル: fugumt\n",
        "from transformers import pipeline\n",
        "\n",
        "translator = pipeline('translation', model='staka/fugumt-en-ja')"
      ],
      "metadata": {
        "id": "pRTEM3Ahr0BJ"
      },
      "execution_count": null,
      "outputs": []
    },
    {
      "cell_type": "code",
      "source": [
        "from pypdf import PdfWriter, PdfReader\n",
        "import io\n",
        "from reportlab.platypus import BaseDocTemplate, PageTemplate\n",
        "from reportlab.platypus import Paragraph, PageBreak, FrameBreak, KeepInFrame\n",
        "from reportlab.platypus.flowables import Spacer\n",
        "from reportlab.lib.styles import ParagraphStyle\n",
        "from reportlab.lib.pagesizes import A4, mm\n",
        "from reportlab.pdfbase import pdfmetrics\n",
        "from reportlab.pdfbase import cidfonts\n",
        "from reportlab.platypus.frames import Frame\n",
        "from reportlab.pdfgen import canvas\n",
        "from reportlab.lib.pagesizes import letter\n",
        "import numpy\n",
        "\n",
        "# reportlab用の座標取る\n",
        "base_pdf = PdfReader(open(target_pdf_file_path, \"rb\"))\n",
        "_, _, base_width, base_height = base_pdf.pages[0].mediabox\n",
        "\n",
        "output = PdfWriter()\n",
        "\n",
        "for page_index, pdf_page in enumerate(pdf_pages):\n",
        "    print(\"■%s ページ目\" % page_index)\n",
        "    # テキストブロックを取得\n",
        "    text_blocks = pdf_page.get_homogeneous_blocks()\n",
        "    # pdfを画像として取得\n",
        "    pdf_image = pdf_to_image(target_pdf_file_path, page_index)\n",
        "    # 座標取る\n",
        "    height, width, channel = pdf_image.shape\n",
        "    print(height, width)\n",
        "    plt.imshow(pdf_image)\n",
        "    # レイアウトを取得\n",
        "    pdf_layout = model.detect(pdf_image)\n",
        "\n",
        "    # 段落ブロックの処理\n",
        "    # 段落ブロックを抽出\n",
        "    paragraph_blocks = lp.Layout([b for b in pdf_layout if b.type=='Text'])\n",
        "\n",
        "    cover_packet = io.BytesIO()\n",
        "    cover_canvas = canvas.Canvas(cover_packet, pagesize=(int(base_width), int(base_height)), bottomup=True)\n",
        "\n",
        "    text_packet = io.BytesIO()\n",
        "    text_canvas = canvas.Canvas(text_packet, pagesize=(int(base_width), int(base_height)), bottomup=True)\n",
        "    for paragraph_block in paragraph_blocks:\n",
        "        # 段落中のテキストブロックを抽出\n",
        "        inner_text_blocks = list(filter(lambda x: is_inside(paragraph_block, x), text_blocks))\n",
        "        print(len(inner_text_blocks))\n",
        "        if len(inner_text_blocks) == 0:\n",
        "            continue\n",
        "        # 段落中のテキストブロックからテキストを抽出\n",
        "        text = \" \".join(list(map(lambda x: x.text, inner_text_blocks)))\n",
        "        print(text)\n",
        "        translated_text = \"\"\n",
        "        # テキストを翻訳\n",
        "        if len(text) > 1000:\n",
        "            n = len(text)\n",
        "            i1 = n // 3\n",
        "            i2 = i1 * 2\n",
        "\n",
        "            text1 = text[:i1]\n",
        "            text2 = text[i1:i2]\n",
        "            text3 = text[i2:]\n",
        "\n",
        "            result1 = translator(text1)\n",
        "            result2 = translator(text2)\n",
        "            result3 = translator(text3)\n",
        "            translated_text = result1[0]['translation_text'] + result2[0]['translation_text'] + result3[0]['translation_text']\n",
        "        else:\n",
        "            result = translator(text)\n",
        "            translated_text = result[0]['translation_text']\n",
        "        print(translated_text)\n",
        "        paragraph_x = (paragraph_block.block.x_1 / width) * base_width\n",
        "        paragraph_y = (paragraph_block.block.y_2 / height) * base_height\n",
        "        paragraph_width = ((paragraph_block.block.x_2 - paragraph_block.block.x_1) / width) * base_width\n",
        "        paragraph_height = ((paragraph_block.block.y_2 - paragraph_block.block.y_1) / height) * base_height\n",
        "\n",
        "        # カバーフレームの追加\n",
        "        fill_cover(cover_canvas, paragraph_x, height - paragraph_y, paragraph_width, paragraph_height)\n",
        "\n",
        "        # テキストフレームの追加\n",
        "        frame = Frame(paragraph_x, height - paragraph_y, paragraph_width, paragraph_height,\n",
        "                            showBoundary=0, leftPadding=0, rightPadding=0, topPadding=0, bottomPadding=0)\n",
        "        # テキスト実態の追加\n",
        "        fontsize = calc_fontsize(paragraph_width, paragraph_height, translated_text)\n",
        "        style = ParagraphStyle(name='Normal', fontName=font_name, fontSize=fontsize, leading=fontsize)\n",
        "        paragraph = Paragraph(translated_text, style)\n",
        "        story = [paragraph]\n",
        "        story_inframe = KeepInFrame(paragraph_width * 1.5, paragraph_height * 1.5, story)\n",
        "        frame.addFromList([story_inframe], text_canvas)\n",
        "\n",
        "\n",
        "    # カバーをpdfページにする\n",
        "    cover_canvas.save()\n",
        "\n",
        "    cover_packet.seek(0)\n",
        "    cover_pdf = PdfReader(cover_packet)\n",
        "\n",
        "    # テキストをpdfページにする\n",
        "\n",
        "    text_canvas.save()\n",
        "\n",
        "    text_packet.seek(0)\n",
        "    text_pdf = PdfReader(text_packet)\n",
        "\n",
        "    # pdfをマージ\n",
        "    base_pdf = PdfReader(open(target_pdf_file_path, \"rb\"))\n",
        "    base_page = base_pdf.pages[page_index]\n",
        "    # 見開き用\n",
        "    if is_mihiraki:\n",
        "        output.add_page(base_page)\n",
        "    try:\n",
        "        base_page.merge_page(cover_pdf.pages[0])\n",
        "        base_page.merge_page(text_pdf.pages[0])\n",
        "    except Exception as e:\n",
        "        print(\"error: %s\" % e)\n",
        "\n",
        "\n",
        "    output.add_page(base_page)\n",
        "\n",
        "# 保存\n",
        "# pdfの出力パス\n",
        "output_filepath = \"translated_\" + pdf_file_name\n",
        "print(output_filepath)\n",
        "outputStream = open(output_filepath, \"wb\")\n",
        "output.write(outputStream)\n",
        "outputStream.close()\n",
        "files.download(output_filepath)"
      ],
      "metadata": {
        "id": "1c9JNisilmTX"
      },
      "execution_count": null,
      "outputs": []
    }
  ]
}