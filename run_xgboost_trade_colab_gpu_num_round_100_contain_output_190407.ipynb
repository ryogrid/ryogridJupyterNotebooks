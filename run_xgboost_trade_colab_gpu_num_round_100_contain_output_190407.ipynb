{
  "nbformat": 4,
  "nbformat_minor": 0,
  "metadata": {
    "colab": {
      "name": "run_xgboost_trade_colab_gpu_num_round_100_contain_output_190407.ipynb",
      "version": "0.3.2",
      "provenance": [],
      "collapsed_sections": [],
      "include_colab_link": true
    },
    "kernelspec": {
      "name": "python3",
      "display_name": "Python 3"
    },
    "accelerator": "GPU"
  },
  "cells": [
    {
      "cell_type": "markdown",
      "metadata": {
        "id": "view-in-github",
        "colab_type": "text"
      },
      "source": [
        "<a href=\"https://colab.research.google.com/github/ryogrid/fx_systrade/blob/master/run_xgboost_trade_colab_gpu_num_round_100_contain_output_190407.ipynb\" target=\"_parent\"><img src=\"https://colab.research.google.com/assets/colab-badge.svg\" alt=\"Open In Colab\"/></a>"
      ]
    },
    {
      "metadata": {
        "id": "vV8gIibgvla9",
        "colab_type": "code",
        "colab": {}
      },
      "cell_type": "code",
      "source": [
        "%cd ~\n",
        "!rm -rf xgboost\n",
        "!git clone --recursive https://github.com/dmlc/xgboost\n",
        "%cd xgboost\n",
        "!mkdir build\n",
        "%cd build\n",
        "!cmake .. -DUSE_CUDA=ON\n",
        "!make -j4"
      ],
      "execution_count": 0,
      "outputs": []
    },
    {
      "metadata": {
        "id": "SFqsKtaE2Io9",
        "colab_type": "code",
        "colab": {}
      },
      "cell_type": "code",
      "source": [
        "!pip uninstall xgboost"
      ],
      "execution_count": 0,
      "outputs": []
    },
    {
      "metadata": {
        "id": "dglrHL2UzZdS",
        "colab_type": "code",
        "colab": {}
      },
      "cell_type": "code",
      "source": [
        "%cd ../python-package\n",
        "!python setup.py install"
      ],
      "execution_count": 0,
      "outputs": []
    },
    {
      "metadata": {
        "colab_type": "code",
        "id": "Dp8lgnHcpNVO",
        "colab": {}
      },
      "cell_type": "code",
      "source": [
        "%cd ~/\n",
        "!wget http://prdownloads.sourceforge.net/ta-lib/ta-lib-0.4.0-src.tar.gz\n",
        "!tar -xzvf ta-lib-0.4.0-src.tar.gz\n",
        "%cd ta-lib\n",
        "!./configure --prefix=/usr\n",
        "!make\n",
        "!make install\n",
        "!pip install ta-lib"
      ],
      "execution_count": 0,
      "outputs": []
    },
    {
      "metadata": {
        "colab_type": "code",
        "id": "GaGdQE_mpNVC",
        "colab": {}
      },
      "cell_type": "code",
      "source": [
        "from google import colab\n",
        "colab.drive.mount('/content/gdrive')"
      ],
      "execution_count": 0,
      "outputs": []
    },
    {
      "metadata": {
        "colab_type": "code",
        "id": "IQFViaD7pNUy",
        "colab": {}
      },
      "cell_type": "code",
      "source": [
        "%cd '/content/gdrive/My Drive/gcolab_workdir_xgboost/'\n",
        "!rm -rf fx_systrade\n",
        "!git clone -b for_try_keras_trade_learning_at_google_colab https://github.com/ryogrid/fx_systrade.git"
      ],
      "execution_count": 0,
      "outputs": []
    },
    {
      "metadata": {
        "colab_type": "code",
        "id": "MK0Nk3TupNTn",
        "colab": {}
      },
      "cell_type": "code",
      "source": [
        "%cd 'fx_systrade'"
      ],
      "execution_count": 0,
      "outputs": []
    },
    {
      "metadata": {
        "id": "h79QmGN9vxP4",
        "colab_type": "code",
        "colab": {}
      },
      "cell_type": "code",
      "source": [
        "!pip install pytz\n",
        "#!pip install xgboost"
      ],
      "execution_count": 0,
      "outputs": []
    },
    {
      "metadata": {
        "colab_type": "code",
        "id": "3eKjyxsZpNTV",
        "outputId": "bfb50301-4126-4da2-e808-bd904c43d1fe",
        "colab": {
          "base_uri": "https://localhost:8080/",
          "height": 1802
        }
      },
      "cell_type": "code",
      "source": [
        "import xgboost_trade_colab_gpu\n",
        "xgboost_trade_colab_gpu.run_script(\"TRAIN_GPU\")\n",
        "xgboost_trade_colab_gpu.run_script(\"TRADE_GPU\")"
      ],
      "execution_count": 0,
      "outputs": [
        {
          "output_type": "stream",
          "text": [
            "data size: 836678\n",
            "train len: 83667\n",
            "num_round: 100\n",
            "[0]\ttrain-error:0.314292\n",
            "[1]\ttrain-error:0.310481\n",
            "[2]\ttrain-error:0.308727\n",
            "[3]\ttrain-error:0.307881\n",
            "[4]\ttrain-error:0.307578\n",
            "[5]\ttrain-error:0.306459\n",
            "[6]\ttrain-error:0.305673\n",
            "[7]\ttrain-error:0.303647\n",
            "[8]\ttrain-error:0.303314\n",
            "[9]\ttrain-error:0.301802\n",
            "[10]\ttrain-error:0.300744\n",
            "[11]\ttrain-error:0.300109\n",
            "[12]\ttrain-error:0.300744\n",
            "[13]\ttrain-error:0.301167\n",
            "[14]\ttrain-error:0.301167\n",
            "[15]\ttrain-error:0.301077\n",
            "[16]\ttrain-error:0.300653\n",
            "[17]\ttrain-error:0.300714\n",
            "[18]\ttrain-error:0.299716\n",
            "[19]\ttrain-error:0.299988\n",
            "[20]\ttrain-error:0.297357\n",
            "[21]\ttrain-error:0.296389\n",
            "[22]\ttrain-error:0.29645\n",
            "[23]\ttrain-error:0.29527\n",
            "[24]\ttrain-error:0.294212\n",
            "[25]\ttrain-error:0.294\n",
            "[26]\ttrain-error:0.294272\n",
            "[27]\ttrain-error:0.291944\n",
            "[28]\ttrain-error:0.290764\n",
            "[29]\ttrain-error:0.292125\n",
            "[30]\ttrain-error:0.291702\n",
            "[31]\ttrain-error:0.291369\n",
            "[32]\ttrain-error:0.291309\n",
            "[33]\ttrain-error:0.290492\n",
            "[34]\ttrain-error:0.289797\n",
            "[35]\ttrain-error:0.289948\n",
            "[36]\ttrain-error:0.288103\n",
            "[37]\ttrain-error:0.286833\n",
            "[38]\ttrain-error:0.286047\n",
            "[39]\ttrain-error:0.284202\n",
            "[40]\ttrain-error:0.282297\n",
            "[41]\ttrain-error:0.281602\n",
            "[42]\ttrain-error:0.281148\n",
            "[43]\ttrain-error:0.280362\n",
            "[44]\ttrain-error:0.278457\n",
            "[45]\ttrain-error:0.278063\n",
            "[46]\ttrain-error:0.276461\n",
            "[47]\ttrain-error:0.275402\n",
            "[48]\ttrain-error:0.275523\n",
            "[49]\ttrain-error:0.274495\n",
            "[50]\ttrain-error:0.274253\n",
            "[51]\ttrain-error:0.272439\n",
            "[52]\ttrain-error:0.27138\n",
            "[53]\ttrain-error:0.269717\n",
            "[54]\ttrain-error:0.2689\n",
            "[55]\ttrain-error:0.268114\n",
            "[56]\ttrain-error:0.266784\n",
            "[57]\ttrain-error:0.266028\n",
            "[58]\ttrain-error:0.263729\n",
            "[59]\ttrain-error:0.26382\n",
            "[60]\ttrain-error:0.262943\n",
            "[61]\ttrain-error:0.26258\n",
            "[62]\ttrain-error:0.262792\n",
            "[63]\ttrain-error:0.262338\n",
            "[64]\ttrain-error:0.262157\n",
            "[65]\ttrain-error:0.261612\n",
            "[66]\ttrain-error:0.261401\n",
            "[67]\ttrain-error:0.261733\n",
            "[68]\ttrain-error:0.261038\n",
            "[69]\ttrain-error:0.2601\n",
            "[70]\ttrain-error:0.259193\n",
            "[71]\ttrain-error:0.25753\n",
            "[72]\ttrain-error:0.256774\n",
            "[73]\ttrain-error:0.256592\n",
            "[74]\ttrain-error:0.255685\n",
            "[75]\ttrain-error:0.254083\n",
            "[76]\ttrain-error:0.253387\n",
            "[77]\ttrain-error:0.251935\n",
            "[78]\ttrain-error:0.251331\n",
            "[79]\ttrain-error:0.250786\n",
            "[80]\ttrain-error:0.250302\n",
            "[81]\ttrain-error:0.249153\n",
            "[82]\ttrain-error:0.249063\n",
            "[83]\ttrain-error:0.247792\n",
            "[84]\ttrain-error:0.247641\n",
            "[85]\ttrain-error:0.24743\n",
            "[86]\ttrain-error:0.246069\n",
            "[87]\ttrain-error:0.246159\n",
            "[88]\ttrain-error:0.245857\n",
            "[89]\ttrain-error:0.245313\n",
            "[90]\ttrain-error:0.244405\n",
            "[91]\ttrain-error:0.243075\n",
            "[92]\ttrain-error:0.241291\n",
            "[93]\ttrain-error:0.240746\n",
            "[94]\ttrain-error:0.2399\n",
            "[95]\ttrain-error:0.238962\n",
            "[96]\ttrain-error:0.237753\n",
            "[97]\ttrain-error:0.237571\n",
            "[98]\ttrain-error:0.236482\n",
            "[99]\ttrain-error:0.235636\n",
            "finished training and saved model.\n",
            "start backtest...\n"
          ],
          "name": "stdout"
        }
      ]
    }
  ]
}