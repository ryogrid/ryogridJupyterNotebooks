{
  "nbformat": 4,
  "nbformat_minor": 0,
  "metadata": {
    "colab": {
      "name": "run_keras_trade_procedure_on_qiita_post_use_tpu_epoch1000_batch1000_share.ipynb",
      "version": "0.3.2",
      "provenance": [],
      "collapsed_sections": [],
      "include_colab_link": true
    },
    "kernelspec": {
      "name": "python3",
      "display_name": "Python 3"
    },
    "accelerator": "GPU"
  },
  "cells": [
    {
      "cell_type": "markdown",
      "metadata": {
        "id": "view-in-github",
        "colab_type": "text"
      },
      "source": [
        "<a href=\"https://colab.research.google.com/github/ryogrid/fx_systrade/blob/master/run_keras_trade_procedure_on_qiita_post_use_tpu_epoch1000_batch1000_share.ipynb\" target=\"_parent\"><img src=\"https://colab.research.google.com/assets/colab-badge.svg\" alt=\"Open In Colab\"/></a>"
      ]
    },
    {
      "metadata": {
        "colab_type": "code",
        "id": "Bua0qDf7pNVa",
        "colab": {}
      },
      "cell_type": "code",
      "source": [
        "!pip install h5py\n",
        "!pip install keras\n",
        "!pip install sklearn\n",
        "!pip install tensorflow"
      ],
      "execution_count": 0,
      "outputs": []
    },
    {
      "metadata": {
        "colab_type": "code",
        "id": "Dp8lgnHcpNVO",
        "colab": {}
      },
      "cell_type": "code",
      "source": [
        "%cd ~/\n",
        "!wget http://prdownloads.sourceforge.net/ta-lib/ta-lib-0.4.0-src.tar.gz\n",
        "!tar -xzvf ta-lib-0.4.0-src.tar.gz\n",
        "%cd ta-lib\n",
        "!./configure --prefix=/usr\n",
        "!make\n",
        "!make install\n",
        "!pip install ta-lib"
      ],
      "execution_count": 0,
      "outputs": []
    },
    {
      "metadata": {
        "colab_type": "code",
        "id": "GaGdQE_mpNVC",
        "colab": {}
      },
      "cell_type": "code",
      "source": [
        "from google import colab\n",
        "colab.drive.mount('/content/gdrive')"
      ],
      "execution_count": 0,
      "outputs": []
    },
    {
      "metadata": {
        "colab_type": "code",
        "id": "IQFViaD7pNUy",
        "colab": {}
      },
      "cell_type": "code",
      "source": [
        "%cd '/content/gdrive/My Drive/gcolab_workdir/'\n",
        "!rm -rf fx_systrade\n",
        "!git clone -b for_try_keras_trade_learning_at_google_colab https://github.com/ryogrid/fx_systrade.git"
      ],
      "execution_count": 0,
      "outputs": []
    },
    {
      "metadata": {
        "colab_type": "code",
        "id": "MK0Nk3TupNTn",
        "colab": {}
      },
      "cell_type": "code",
      "source": [
        "%cd 'fx_systrade'"
      ],
      "execution_count": 0,
      "outputs": []
    },
    {
      "metadata": {
        "colab_type": "code",
        "id": "3eKjyxsZpNTV",
        "colab": {}
      },
      "cell_type": "code",
      "source": [
        "import keras_trade_at_google_colab_tpu\n",
        "keras_trade_at_google_colab_tpu.run_script(\"TRAIN\")\n",
        "keras_trade_at_google_colab_tpu.run_script(\"TRADE\")"
      ],
      "execution_count": 0,
      "outputs": []
    }
  ]
}